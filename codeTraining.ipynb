{
  "cells": [
    {
      "cell_type": "code",
      "execution_count": null,
      "metadata": {
        "id": "51o9J3ywfebw"
      },
      "outputs": [],
      "source": []
    },
    {
      "cell_type": "code",
      "execution_count": 2,
      "metadata": {},
      "outputs": [
        {
          "name": "stdout",
          "output_type": "stream",
          "text": [
            "Requirement already satisfied: Flask==2.2.5 in d:\\wpsystem\\s-1-5-21-3269375078-2600015948-3888818519-1001\\appdata\\local\\packages\\pythonsoftwarefoundation.python.3.9_qbz5n2kfra8p0\\localcache\\local-packages\\python39\\site-packages (from -r requirements.txt (line 2)) (2.2.5)\n",
            "Requirement already satisfied: joblib==1.2.0 in d:\\wpsystem\\s-1-5-21-3269375078-2600015948-3888818519-1001\\appdata\\local\\packages\\pythonsoftwarefoundation.python.3.9_qbz5n2kfra8p0\\localcache\\local-packages\\python39\\site-packages (from -r requirements.txt (line 3)) (1.2.0)\n",
            "Requirement already satisfied: scikit-learn==1.0.2 in d:\\wpsystem\\s-1-5-21-3269375078-2600015948-3888818519-1001\\appdata\\local\\packages\\pythonsoftwarefoundation.python.3.9_qbz5n2kfra8p0\\localcache\\local-packages\\python39\\site-packages (from -r requirements.txt (line 4)) (1.0.2)\n",
            "Requirement already satisfied: gunicorn==21.2.0 in d:\\wpsystem\\s-1-5-21-3269375078-2600015948-3888818519-1001\\appdata\\local\\packages\\pythonsoftwarefoundation.python.3.9_qbz5n2kfra8p0\\localcache\\local-packages\\python39\\site-packages (from -r requirements.txt (line 5)) (21.2.0)\n",
            "Requirement already satisfied: pandas==1.3.5 in d:\\wpsystem\\s-1-5-21-3269375078-2600015948-3888818519-1001\\appdata\\local\\packages\\pythonsoftwarefoundation.python.3.9_qbz5n2kfra8p0\\localcache\\local-packages\\python39\\site-packages (from -r requirements.txt (line 6)) (1.3.5)\n",
            "Requirement already satisfied: scipy==1.7.0 in d:\\wpsystem\\s-1-5-21-3269375078-2600015948-3888818519-1001\\appdata\\local\\packages\\pythonsoftwarefoundation.python.3.9_qbz5n2kfra8p0\\localcache\\local-packages\\python39\\site-packages (from -r requirements.txt (line 7)) (1.7.0)\n",
            "Requirement already satisfied: Werkzeug>=2.2.2 in d:\\wpsystem\\s-1-5-21-3269375078-2600015948-3888818519-1001\\appdata\\local\\packages\\pythonsoftwarefoundation.python.3.9_qbz5n2kfra8p0\\localcache\\local-packages\\python39\\site-packages (from Flask==2.2.5->-r requirements.txt (line 2)) (3.0.1)\n",
            "Requirement already satisfied: Jinja2>=3.0 in d:\\wpsystem\\s-1-5-21-3269375078-2600015948-3888818519-1001\\appdata\\local\\packages\\pythonsoftwarefoundation.python.3.9_qbz5n2kfra8p0\\localcache\\local-packages\\python39\\site-packages (from Flask==2.2.5->-r requirements.txt (line 2)) (3.1.2)\n",
            "Requirement already satisfied: itsdangerous>=2.0 in d:\\wpsystem\\s-1-5-21-3269375078-2600015948-3888818519-1001\\appdata\\local\\packages\\pythonsoftwarefoundation.python.3.9_qbz5n2kfra8p0\\localcache\\local-packages\\python39\\site-packages (from Flask==2.2.5->-r requirements.txt (line 2)) (2.1.2)\n",
            "Requirement already satisfied: click>=8.0 in d:\\wpsystem\\s-1-5-21-3269375078-2600015948-3888818519-1001\\appdata\\local\\packages\\pythonsoftwarefoundation.python.3.9_qbz5n2kfra8p0\\localcache\\local-packages\\python39\\site-packages (from Flask==2.2.5->-r requirements.txt (line 2)) (8.1.7)\n",
            "Requirement already satisfied: importlib-metadata>=3.6.0 in d:\\wpsystem\\s-1-5-21-3269375078-2600015948-3888818519-1001\\appdata\\local\\packages\\pythonsoftwarefoundation.python.3.9_qbz5n2kfra8p0\\localcache\\local-packages\\python39\\site-packages (from Flask==2.2.5->-r requirements.txt (line 2)) (4.12.0)\n",
            "Requirement already satisfied: numpy>=1.14.6 in d:\\wpsystem\\s-1-5-21-3269375078-2600015948-3888818519-1001\\appdata\\local\\packages\\pythonsoftwarefoundation.python.3.9_qbz5n2kfra8p0\\localcache\\local-packages\\python39\\site-packages (from scikit-learn==1.0.2->-r requirements.txt (line 4)) (1.22.4)\n",
            "Requirement already satisfied: threadpoolctl>=2.0.0 in d:\\wpsystem\\s-1-5-21-3269375078-2600015948-3888818519-1001\\appdata\\local\\packages\\pythonsoftwarefoundation.python.3.9_qbz5n2kfra8p0\\localcache\\local-packages\\python39\\site-packages (from scikit-learn==1.0.2->-r requirements.txt (line 4)) (3.1.0)\n",
            "Requirement already satisfied: packaging in d:\\wpsystem\\s-1-5-21-3269375078-2600015948-3888818519-1001\\appdata\\local\\packages\\pythonsoftwarefoundation.python.3.9_qbz5n2kfra8p0\\localcache\\local-packages\\python39\\site-packages (from gunicorn==21.2.0->-r requirements.txt (line 5)) (21.3)\n",
            "Requirement already satisfied: python-dateutil>=2.7.3 in d:\\wpsystem\\s-1-5-21-3269375078-2600015948-3888818519-1001\\appdata\\local\\packages\\pythonsoftwarefoundation.python.3.9_qbz5n2kfra8p0\\localcache\\local-packages\\python39\\site-packages (from pandas==1.3.5->-r requirements.txt (line 6)) (2.8.2)\n",
            "Requirement already satisfied: pytz>=2017.3 in d:\\wpsystem\\s-1-5-21-3269375078-2600015948-3888818519-1001\\appdata\\local\\packages\\pythonsoftwarefoundation.python.3.9_qbz5n2kfra8p0\\localcache\\local-packages\\python39\\site-packages (from pandas==1.3.5->-r requirements.txt (line 6)) (2022.7.1)\n",
            "Requirement already satisfied: colorama in d:\\wpsystem\\s-1-5-21-3269375078-2600015948-3888818519-1001\\appdata\\local\\packages\\pythonsoftwarefoundation.python.3.9_qbz5n2kfra8p0\\localcache\\local-packages\\python39\\site-packages (from click>=8.0->Flask==2.2.5->-r requirements.txt (line 2)) (0.4.6)\n",
            "Requirement already satisfied: zipp>=0.5 in d:\\wpsystem\\s-1-5-21-3269375078-2600015948-3888818519-1001\\appdata\\local\\packages\\pythonsoftwarefoundation.python.3.9_qbz5n2kfra8p0\\localcache\\local-packages\\python39\\site-packages (from importlib-metadata>=3.6.0->Flask==2.2.5->-r requirements.txt (line 2)) (3.8.1)\n",
            "Requirement already satisfied: MarkupSafe>=2.0 in d:\\wpsystem\\s-1-5-21-3269375078-2600015948-3888818519-1001\\appdata\\local\\packages\\pythonsoftwarefoundation.python.3.9_qbz5n2kfra8p0\\localcache\\local-packages\\python39\\site-packages (from Jinja2>=3.0->Flask==2.2.5->-r requirements.txt (line 2)) (2.1.2)\n",
            "Requirement already satisfied: six>=1.5 in d:\\wpsystem\\s-1-5-21-3269375078-2600015948-3888818519-1001\\appdata\\local\\packages\\pythonsoftwarefoundation.python.3.9_qbz5n2kfra8p0\\localcache\\local-packages\\python39\\site-packages (from python-dateutil>=2.7.3->pandas==1.3.5->-r requirements.txt (line 6)) (1.16.0)\n",
            "Requirement already satisfied: pyparsing!=3.0.5,>=2.0.2 in d:\\wpsystem\\s-1-5-21-3269375078-2600015948-3888818519-1001\\appdata\\local\\packages\\pythonsoftwarefoundation.python.3.9_qbz5n2kfra8p0\\localcache\\local-packages\\python39\\site-packages (from packaging->gunicorn==21.2.0->-r requirements.txt (line 5)) (3.0.9)\n",
            "Note: you may need to restart the kernel to use updated packages.\n"
          ]
        },
        {
          "name": "stderr",
          "output_type": "stream",
          "text": [
            "WARNING: Ignoring invalid distribution -cikit-learn (d:\\wpsystem\\s-1-5-21-3269375078-2600015948-3888818519-1001\\appdata\\local\\packages\\pythonsoftwarefoundation.python.3.9_qbz5n2kfra8p0\\localcache\\local-packages\\python39\\site-packages)\n",
            "WARNING: Ignoring invalid distribution -cipy (d:\\wpsystem\\s-1-5-21-3269375078-2600015948-3888818519-1001\\appdata\\local\\packages\\pythonsoftwarefoundation.python.3.9_qbz5n2kfra8p0\\localcache\\local-packages\\python39\\site-packages)\n",
            "WARNING: Ignoring invalid distribution -umpy (d:\\wpsystem\\s-1-5-21-3269375078-2600015948-3888818519-1001\\appdata\\local\\packages\\pythonsoftwarefoundation.python.3.9_qbz5n2kfra8p0\\localcache\\local-packages\\python39\\site-packages)\n",
            "WARNING: Ignoring invalid distribution -cikit-learn (d:\\wpsystem\\s-1-5-21-3269375078-2600015948-3888818519-1001\\appdata\\local\\packages\\pythonsoftwarefoundation.python.3.9_qbz5n2kfra8p0\\localcache\\local-packages\\python39\\site-packages)\n",
            "WARNING: Ignoring invalid distribution -cipy (d:\\wpsystem\\s-1-5-21-3269375078-2600015948-3888818519-1001\\appdata\\local\\packages\\pythonsoftwarefoundation.python.3.9_qbz5n2kfra8p0\\localcache\\local-packages\\python39\\site-packages)\n",
            "WARNING: Ignoring invalid distribution -umpy (d:\\wpsystem\\s-1-5-21-3269375078-2600015948-3888818519-1001\\appdata\\local\\packages\\pythonsoftwarefoundation.python.3.9_qbz5n2kfra8p0\\localcache\\local-packages\\python39\\site-packages)\n",
            "WARNING: Ignoring invalid distribution -cikit-learn (d:\\wpsystem\\s-1-5-21-3269375078-2600015948-3888818519-1001\\appdata\\local\\packages\\pythonsoftwarefoundation.python.3.9_qbz5n2kfra8p0\\localcache\\local-packages\\python39\\site-packages)\n",
            "WARNING: Ignoring invalid distribution -cipy (d:\\wpsystem\\s-1-5-21-3269375078-2600015948-3888818519-1001\\appdata\\local\\packages\\pythonsoftwarefoundation.python.3.9_qbz5n2kfra8p0\\localcache\\local-packages\\python39\\site-packages)\n",
            "WARNING: Ignoring invalid distribution -umpy (d:\\wpsystem\\s-1-5-21-3269375078-2600015948-3888818519-1001\\appdata\\local\\packages\\pythonsoftwarefoundation.python.3.9_qbz5n2kfra8p0\\localcache\\local-packages\\python39\\site-packages)\n",
            "WARNING: Ignoring invalid distribution -cikit-learn (d:\\wpsystem\\s-1-5-21-3269375078-2600015948-3888818519-1001\\appdata\\local\\packages\\pythonsoftwarefoundation.python.3.9_qbz5n2kfra8p0\\localcache\\local-packages\\python39\\site-packages)\n",
            "WARNING: Ignoring invalid distribution -cipy (d:\\wpsystem\\s-1-5-21-3269375078-2600015948-3888818519-1001\\appdata\\local\\packages\\pythonsoftwarefoundation.python.3.9_qbz5n2kfra8p0\\localcache\\local-packages\\python39\\site-packages)\n",
            "WARNING: Ignoring invalid distribution -umpy (d:\\wpsystem\\s-1-5-21-3269375078-2600015948-3888818519-1001\\appdata\\local\\packages\\pythonsoftwarefoundation.python.3.9_qbz5n2kfra8p0\\localcache\\local-packages\\python39\\site-packages)\n",
            "\n",
            "[notice] A new release of pip is available: 23.1 -> 23.3.1\n",
            "[notice] To update, run: C:\\Users\\Admin\\AppData\\Local\\Microsoft\\WindowsApps\\PythonSoftwareFoundation.Python.3.9_qbz5n2kfra8p0\\python.exe -m pip install --upgrade pip\n"
          ]
        }
      ],
      "source": [
        "pip install -r requirements.txt\n"
      ]
    },
    {
      "cell_type": "code",
      "execution_count": 2,
      "metadata": {},
      "outputs": [],
      "source": [
        "import pandas as pd\n",
        "import numpy as np\n",
        "import seaborn as sns\n",
        "import matplotlib.pyplot as plt\n",
        "from sklearn.model_selection import train_test_split\n",
        "from sklearn.metrics import accuracy_score, classification_report\n",
        "import re\n",
        "import string\n",
        "import joblib"
      ]
    },
    {
      "cell_type": "code",
      "execution_count": 3,
      "metadata": {},
      "outputs": [],
      "source": [
        "# import gunicorn\n",
        "# print(gunicorn.__version__)"
      ]
    },
    {
      "cell_type": "code",
      "execution_count": 4,
      "metadata": {
        "id": "YboxpGGUhDBh"
      },
      "outputs": [],
      "source": [
        "data_fake = pd.read_csv('Fake.csv')\n",
        "data_true = pd.read_csv('True.csv')\n",
        "# data_true = pd.read_csv('/content/drive/MyDrive/học/PBL 6/code/my_array.csv')"
      ]
    },
    {
      "cell_type": "code",
      "execution_count": 5,
      "metadata": {
        "colab": {
          "base_uri": "https://localhost:8080/",
          "height": 206
        },
        "id": "qtf85fwuiyT9",
        "outputId": "7aea10f5-86bd-4d13-9bcd-59982250abe1"
      },
      "outputs": [
        {
          "data": {
            "text/html": [
              "<div>\n",
              "<style scoped>\n",
              "    .dataframe tbody tr th:only-of-type {\n",
              "        vertical-align: middle;\n",
              "    }\n",
              "\n",
              "    .dataframe tbody tr th {\n",
              "        vertical-align: top;\n",
              "    }\n",
              "\n",
              "    .dataframe thead th {\n",
              "        text-align: right;\n",
              "    }\n",
              "</style>\n",
              "<table border=\"1\" class=\"dataframe\">\n",
              "  <thead>\n",
              "    <tr style=\"text-align: right;\">\n",
              "      <th></th>\n",
              "      <th>title</th>\n",
              "      <th>text</th>\n",
              "      <th>subject</th>\n",
              "      <th>date</th>\n",
              "    </tr>\n",
              "  </thead>\n",
              "  <tbody>\n",
              "    <tr>\n",
              "      <th>0</th>\n",
              "      <td>Donald Trump Sends Out Embarrassing New Year’...</td>\n",
              "      <td>Donald Trump just couldn t wish all Americans ...</td>\n",
              "      <td>News</td>\n",
              "      <td>December 31, 2017</td>\n",
              "    </tr>\n",
              "    <tr>\n",
              "      <th>1</th>\n",
              "      <td>Drunk Bragging Trump Staffer Started Russian ...</td>\n",
              "      <td>House Intelligence Committee Chairman Devin Nu...</td>\n",
              "      <td>News</td>\n",
              "      <td>December 31, 2017</td>\n",
              "    </tr>\n",
              "    <tr>\n",
              "      <th>2</th>\n",
              "      <td>Sheriff David Clarke Becomes An Internet Joke...</td>\n",
              "      <td>On Friday, it was revealed that former Milwauk...</td>\n",
              "      <td>News</td>\n",
              "      <td>December 30, 2017</td>\n",
              "    </tr>\n",
              "    <tr>\n",
              "      <th>3</th>\n",
              "      <td>Trump Is So Obsessed He Even Has Obama’s Name...</td>\n",
              "      <td>On Christmas day, Donald Trump announced that ...</td>\n",
              "      <td>News</td>\n",
              "      <td>December 29, 2017</td>\n",
              "    </tr>\n",
              "    <tr>\n",
              "      <th>4</th>\n",
              "      <td>Pope Francis Just Called Out Donald Trump Dur...</td>\n",
              "      <td>Pope Francis used his annual Christmas Day mes...</td>\n",
              "      <td>News</td>\n",
              "      <td>December 25, 2017</td>\n",
              "    </tr>\n",
              "  </tbody>\n",
              "</table>\n",
              "</div>"
            ],
            "text/plain": [
              "                                               title  \\\n",
              "0   Donald Trump Sends Out Embarrassing New Year’...   \n",
              "1   Drunk Bragging Trump Staffer Started Russian ...   \n",
              "2   Sheriff David Clarke Becomes An Internet Joke...   \n",
              "3   Trump Is So Obsessed He Even Has Obama’s Name...   \n",
              "4   Pope Francis Just Called Out Donald Trump Dur...   \n",
              "\n",
              "                                                text subject  \\\n",
              "0  Donald Trump just couldn t wish all Americans ...    News   \n",
              "1  House Intelligence Committee Chairman Devin Nu...    News   \n",
              "2  On Friday, it was revealed that former Milwauk...    News   \n",
              "3  On Christmas day, Donald Trump announced that ...    News   \n",
              "4  Pope Francis used his annual Christmas Day mes...    News   \n",
              "\n",
              "                date  \n",
              "0  December 31, 2017  \n",
              "1  December 31, 2017  \n",
              "2  December 30, 2017  \n",
              "3  December 29, 2017  \n",
              "4  December 25, 2017  "
            ]
          },
          "execution_count": 5,
          "metadata": {},
          "output_type": "execute_result"
        }
      ],
      "source": [
        "data_fake.head()"
      ]
    },
    {
      "cell_type": "code",
      "execution_count": 6,
      "metadata": {
        "id": "MX6yqsa_i1Lz"
      },
      "outputs": [],
      "source": [
        "data_fake[\"class\"]=0\n",
        "data_true[\"class\"]=1"
      ]
    },
    {
      "cell_type": "code",
      "execution_count": 7,
      "metadata": {
        "colab": {
          "base_uri": "https://localhost:8080/"
        },
        "id": "Bxy3t0V2i5t3",
        "outputId": "e85f7368-5a86-4ef4-849e-296b6fa11d35"
      },
      "outputs": [
        {
          "data": {
            "text/plain": [
              "((23481, 5), (21956, 5))"
            ]
          },
          "execution_count": 7,
          "metadata": {},
          "output_type": "execute_result"
        }
      ],
      "source": [
        "data_fake.shape, data_true.shape"
      ]
    },
    {
      "cell_type": "code",
      "execution_count": 8,
      "metadata": {
        "id": "fzY7iGVYi7n4"
      },
      "outputs": [],
      "source": [
        "data_fake_maniual_testing = data_fake.tail(10)\n",
        "for i in range(15480,15470,-1):\n",
        "    data_fake.drop([i],axis =0, inplace = True)\n",
        "\n",
        "data_true_maniual_testing = data_true.tail(10)\n",
        "for i in range(15416,15406,-1):\n",
        "    data_true.drop([i],axis=0, inplace = True)"
      ]
    },
    {
      "cell_type": "code",
      "execution_count": 9,
      "metadata": {
        "colab": {
          "base_uri": "https://localhost:8080/"
        },
        "id": "V6h1jpYljUEs",
        "outputId": "2cb9673d-6743-4e77-aee5-486c01df3870"
      },
      "outputs": [
        {
          "data": {
            "text/plain": [
              "((23471, 5), (21946, 5))"
            ]
          },
          "execution_count": 9,
          "metadata": {},
          "output_type": "execute_result"
        }
      ],
      "source": [
        "data_fake.shape, data_true.shape"
      ]
    },
    {
      "cell_type": "code",
      "execution_count": 10,
      "metadata": {
        "colab": {
          "base_uri": "https://localhost:8080/"
        },
        "id": "dJtQrIWejcmF",
        "outputId": "98b83f5f-47f7-4e17-ffb7-9c379517e458"
      },
      "outputs": [
        {
          "name": "stderr",
          "output_type": "stream",
          "text": [
            "C:\\Users\\Admin\\AppData\\Local\\Temp\\ipykernel_9964\\1023032828.py:1: SettingWithCopyWarning: \n",
            "A value is trying to be set on a copy of a slice from a DataFrame.\n",
            "Try using .loc[row_indexer,col_indexer] = value instead\n",
            "\n",
            "See the caveats in the documentation: https://pandas.pydata.org/pandas-docs/stable/user_guide/indexing.html#returning-a-view-versus-a-copy\n",
            "  data_fake_maniual_testing['class']= 0\n",
            "C:\\Users\\Admin\\AppData\\Local\\Temp\\ipykernel_9964\\1023032828.py:2: SettingWithCopyWarning: \n",
            "A value is trying to be set on a copy of a slice from a DataFrame.\n",
            "Try using .loc[row_indexer,col_indexer] = value instead\n",
            "\n",
            "See the caveats in the documentation: https://pandas.pydata.org/pandas-docs/stable/user_guide/indexing.html#returning-a-view-versus-a-copy\n",
            "  data_true_maniual_testing['class']= 1\n"
          ]
        }
      ],
      "source": [
        "data_fake_maniual_testing['class']= 0\n",
        "data_true_maniual_testing['class']= 1\n"
      ]
    },
    {
      "cell_type": "code",
      "execution_count": 11,
      "metadata": {
        "colab": {
          "base_uri": "https://localhost:8080/",
          "height": 206
        },
        "id": "J7Hc43TUjcuc",
        "outputId": "c5668394-b36d-434b-a273-70d46f3ec8ea"
      },
      "outputs": [
        {
          "data": {
            "text/html": [
              "<div>\n",
              "<style scoped>\n",
              "    .dataframe tbody tr th:only-of-type {\n",
              "        vertical-align: middle;\n",
              "    }\n",
              "\n",
              "    .dataframe tbody tr th {\n",
              "        vertical-align: top;\n",
              "    }\n",
              "\n",
              "    .dataframe thead th {\n",
              "        text-align: right;\n",
              "    }\n",
              "</style>\n",
              "<table border=\"1\" class=\"dataframe\">\n",
              "  <thead>\n",
              "    <tr style=\"text-align: right;\">\n",
              "      <th></th>\n",
              "      <th>title</th>\n",
              "      <th>text</th>\n",
              "      <th>subject</th>\n",
              "      <th>date</th>\n",
              "      <th>class</th>\n",
              "    </tr>\n",
              "  </thead>\n",
              "  <tbody>\n",
              "    <tr>\n",
              "      <th>21946</th>\n",
              "      <td>Former Alabama lawmaker pleads guilty to voter...</td>\n",
              "      <td>MONTGOMERY, Ala. (AP) — A former Alabama lawma...</td>\n",
              "      <td>article</td>\n",
              "      <td>11-Oct-23</td>\n",
              "      <td>1</td>\n",
              "    </tr>\n",
              "    <tr>\n",
              "      <th>21947</th>\n",
              "      <td>House Republicans are running into trouble try...</td>\n",
              "      <td>WASHINGTON (AP) — Stalemated over a new House ...</td>\n",
              "      <td>article</td>\n",
              "      <td>11-Oct-23</td>\n",
              "      <td>1</td>\n",
              "    </tr>\n",
              "    <tr>\n",
              "      <th>21948</th>\n",
              "      <td>3 scientists win Nobel in chemistry for quantu...</td>\n",
              "      <td>STOCKHOLM (AP) — Three scientists won the Nobe...</td>\n",
              "      <td>article</td>\n",
              "      <td>11-Oct-23</td>\n",
              "      <td>1</td>\n",
              "    </tr>\n",
              "    <tr>\n",
              "      <th>21949</th>\n",
              "      <td>NASA says more science and less stigma are nee...</td>\n",
              "      <td>CAPE CANAVERAL, Fla. (AP) — NASA said Thursday...</td>\n",
              "      <td>article</td>\n",
              "      <td>11-Oct-23</td>\n",
              "      <td>1</td>\n",
              "    </tr>\n",
              "    <tr>\n",
              "      <th>21950</th>\n",
              "      <td>At least 16 migrants killed, 29 injured in a b...</td>\n",
              "      <td>MEXICO CITY (AP) — At least 16 migrants from V...</td>\n",
              "      <td>article</td>\n",
              "      <td>11-Oct-23</td>\n",
              "      <td>1</td>\n",
              "    </tr>\n",
              "  </tbody>\n",
              "</table>\n",
              "</div>"
            ],
            "text/plain": [
              "                                                   title  \\\n",
              "21946  Former Alabama lawmaker pleads guilty to voter...   \n",
              "21947  House Republicans are running into trouble try...   \n",
              "21948  3 scientists win Nobel in chemistry for quantu...   \n",
              "21949  NASA says more science and less stigma are nee...   \n",
              "21950  At least 16 migrants killed, 29 injured in a b...   \n",
              "\n",
              "                                                    text  subject       date  \\\n",
              "21946  MONTGOMERY, Ala. (AP) — A former Alabama lawma...  article  11-Oct-23   \n",
              "21947  WASHINGTON (AP) — Stalemated over a new House ...  article  11-Oct-23   \n",
              "21948  STOCKHOLM (AP) — Three scientists won the Nobe...  article  11-Oct-23   \n",
              "21949  CAPE CANAVERAL, Fla. (AP) — NASA said Thursday...  article  11-Oct-23   \n",
              "21950  MEXICO CITY (AP) — At least 16 migrants from V...  article  11-Oct-23   \n",
              "\n",
              "       class  \n",
              "21946      1  \n",
              "21947      1  \n",
              "21948      1  \n",
              "21949      1  \n",
              "21950      1  "
            ]
          },
          "execution_count": 11,
          "metadata": {},
          "output_type": "execute_result"
        }
      ],
      "source": [
        "data_true_maniual_testing.head()\n"
      ]
    },
    {
      "cell_type": "code",
      "execution_count": 12,
      "metadata": {
        "colab": {
          "base_uri": "https://localhost:8080/"
        },
        "id": "enjXXESXjcxs",
        "outputId": "3281fa2e-2561-465b-b2a4-ed6ca66bdd02"
      },
      "outputs": [
        {
          "data": {
            "text/plain": [
              "<bound method NDFrame.head of                                                    title  \\\n",
              "23471  Seven Iranians freed in the prisoner swap have...   \n",
              "23472                      #Hashtag Hell & The Fake Left   \n",
              "23473  Astroturfing: Journalist Reveals Brainwashing ...   \n",
              "23474          The New American Century: An Era of Fraud   \n",
              "23475  Hillary Clinton: ‘Israel First’ (and no peace ...   \n",
              "23476  McPain: John McCain Furious That Iran Treated ...   \n",
              "23477  JUSTICE? Yahoo Settles E-mail Privacy Class-ac...   \n",
              "23478  Sunnistan: US and Allied ‘Safe Zone’ Plan to T...   \n",
              "23479  How to Blow $700 Million: Al Jazeera America F...   \n",
              "23480  10 U.S. Navy Sailors Held by Iranian Military ...   \n",
              "\n",
              "                                                    text      subject  \\\n",
              "23471  21st Century Wire says This week, the historic...  Middle-east   \n",
              "23472   By Dady Chery and Gilbert MercierAll writers ...  Middle-east   \n",
              "23473  Vic Bishop Waking TimesOur reality is carefull...  Middle-east   \n",
              "23474  Paul Craig RobertsIn the last years of the 20t...  Middle-east   \n",
              "23475  Robert Fantina CounterpunchAlthough the United...  Middle-east   \n",
              "23476  21st Century Wire says As 21WIRE reported earl...  Middle-east   \n",
              "23477  21st Century Wire says It s a familiar theme. ...  Middle-east   \n",
              "23478  Patrick Henningsen  21st Century WireRemember ...  Middle-east   \n",
              "23479  21st Century Wire says Al Jazeera America will...  Middle-east   \n",
              "23480  21st Century Wire says As 21WIRE predicted in ...  Middle-east   \n",
              "\n",
              "                   date  class  \n",
              "23471  January 20, 2016      0  \n",
              "23472  January 19, 2016      0  \n",
              "23473  January 19, 2016      0  \n",
              "23474  January 19, 2016      0  \n",
              "23475  January 18, 2016      0  \n",
              "23476  January 16, 2016      0  \n",
              "23477  January 16, 2016      0  \n",
              "23478  January 15, 2016      0  \n",
              "23479  January 14, 2016      0  \n",
              "23480  January 12, 2016      0  >"
            ]
          },
          "execution_count": 12,
          "metadata": {},
          "output_type": "execute_result"
        }
      ],
      "source": [
        "data_fake_maniual_testing.head\n"
      ]
    },
    {
      "cell_type": "code",
      "execution_count": 13,
      "metadata": {
        "colab": {
          "base_uri": "https://localhost:8080/",
          "height": 363
        },
        "id": "OXKJUTtjjc0Y",
        "outputId": "127c412e-7592-4c02-b068-d59c892a68ba"
      },
      "outputs": [
        {
          "data": {
            "text/html": [
              "<div>\n",
              "<style scoped>\n",
              "    .dataframe tbody tr th:only-of-type {\n",
              "        vertical-align: middle;\n",
              "    }\n",
              "\n",
              "    .dataframe tbody tr th {\n",
              "        vertical-align: top;\n",
              "    }\n",
              "\n",
              "    .dataframe thead th {\n",
              "        text-align: right;\n",
              "    }\n",
              "</style>\n",
              "<table border=\"1\" class=\"dataframe\">\n",
              "  <thead>\n",
              "    <tr style=\"text-align: right;\">\n",
              "      <th></th>\n",
              "      <th>title</th>\n",
              "      <th>text</th>\n",
              "      <th>subject</th>\n",
              "      <th>date</th>\n",
              "      <th>class</th>\n",
              "    </tr>\n",
              "  </thead>\n",
              "  <tbody>\n",
              "    <tr>\n",
              "      <th>0</th>\n",
              "      <td>Donald Trump Sends Out Embarrassing New Year’...</td>\n",
              "      <td>Donald Trump just couldn t wish all Americans ...</td>\n",
              "      <td>News</td>\n",
              "      <td>December 31, 2017</td>\n",
              "      <td>0</td>\n",
              "    </tr>\n",
              "    <tr>\n",
              "      <th>1</th>\n",
              "      <td>Drunk Bragging Trump Staffer Started Russian ...</td>\n",
              "      <td>House Intelligence Committee Chairman Devin Nu...</td>\n",
              "      <td>News</td>\n",
              "      <td>December 31, 2017</td>\n",
              "      <td>0</td>\n",
              "    </tr>\n",
              "    <tr>\n",
              "      <th>2</th>\n",
              "      <td>Sheriff David Clarke Becomes An Internet Joke...</td>\n",
              "      <td>On Friday, it was revealed that former Milwauk...</td>\n",
              "      <td>News</td>\n",
              "      <td>December 30, 2017</td>\n",
              "      <td>0</td>\n",
              "    </tr>\n",
              "    <tr>\n",
              "      <th>3</th>\n",
              "      <td>Trump Is So Obsessed He Even Has Obama’s Name...</td>\n",
              "      <td>On Christmas day, Donald Trump announced that ...</td>\n",
              "      <td>News</td>\n",
              "      <td>December 29, 2017</td>\n",
              "      <td>0</td>\n",
              "    </tr>\n",
              "    <tr>\n",
              "      <th>4</th>\n",
              "      <td>Pope Francis Just Called Out Donald Trump Dur...</td>\n",
              "      <td>Pope Francis used his annual Christmas Day mes...</td>\n",
              "      <td>News</td>\n",
              "      <td>December 25, 2017</td>\n",
              "      <td>0</td>\n",
              "    </tr>\n",
              "    <tr>\n",
              "      <th>5</th>\n",
              "      <td>Racist Alabama Cops Brutalize Black Boy While...</td>\n",
              "      <td>The number of cases of cops brutalizing and ki...</td>\n",
              "      <td>News</td>\n",
              "      <td>December 25, 2017</td>\n",
              "      <td>0</td>\n",
              "    </tr>\n",
              "    <tr>\n",
              "      <th>6</th>\n",
              "      <td>Fresh Off The Golf Course, Trump Lashes Out A...</td>\n",
              "      <td>Donald Trump spent a good portion of his day a...</td>\n",
              "      <td>News</td>\n",
              "      <td>December 23, 2017</td>\n",
              "      <td>0</td>\n",
              "    </tr>\n",
              "    <tr>\n",
              "      <th>7</th>\n",
              "      <td>Trump Said Some INSANELY Racist Stuff Inside ...</td>\n",
              "      <td>In the wake of yet another court decision that...</td>\n",
              "      <td>News</td>\n",
              "      <td>December 23, 2017</td>\n",
              "      <td>0</td>\n",
              "    </tr>\n",
              "    <tr>\n",
              "      <th>8</th>\n",
              "      <td>Former CIA Director Slams Trump Over UN Bully...</td>\n",
              "      <td>Many people have raised the alarm regarding th...</td>\n",
              "      <td>News</td>\n",
              "      <td>December 22, 2017</td>\n",
              "      <td>0</td>\n",
              "    </tr>\n",
              "    <tr>\n",
              "      <th>9</th>\n",
              "      <td>WATCH: Brand-New Pro-Trump Ad Features So Muc...</td>\n",
              "      <td>Just when you might have thought we d get a br...</td>\n",
              "      <td>News</td>\n",
              "      <td>December 21, 2017</td>\n",
              "      <td>0</td>\n",
              "    </tr>\n",
              "  </tbody>\n",
              "</table>\n",
              "</div>"
            ],
            "text/plain": [
              "                                               title  \\\n",
              "0   Donald Trump Sends Out Embarrassing New Year’...   \n",
              "1   Drunk Bragging Trump Staffer Started Russian ...   \n",
              "2   Sheriff David Clarke Becomes An Internet Joke...   \n",
              "3   Trump Is So Obsessed He Even Has Obama’s Name...   \n",
              "4   Pope Francis Just Called Out Donald Trump Dur...   \n",
              "5   Racist Alabama Cops Brutalize Black Boy While...   \n",
              "6   Fresh Off The Golf Course, Trump Lashes Out A...   \n",
              "7   Trump Said Some INSANELY Racist Stuff Inside ...   \n",
              "8   Former CIA Director Slams Trump Over UN Bully...   \n",
              "9   WATCH: Brand-New Pro-Trump Ad Features So Muc...   \n",
              "\n",
              "                                                text subject  \\\n",
              "0  Donald Trump just couldn t wish all Americans ...    News   \n",
              "1  House Intelligence Committee Chairman Devin Nu...    News   \n",
              "2  On Friday, it was revealed that former Milwauk...    News   \n",
              "3  On Christmas day, Donald Trump announced that ...    News   \n",
              "4  Pope Francis used his annual Christmas Day mes...    News   \n",
              "5  The number of cases of cops brutalizing and ki...    News   \n",
              "6  Donald Trump spent a good portion of his day a...    News   \n",
              "7  In the wake of yet another court decision that...    News   \n",
              "8  Many people have raised the alarm regarding th...    News   \n",
              "9  Just when you might have thought we d get a br...    News   \n",
              "\n",
              "                date  class  \n",
              "0  December 31, 2017      0  \n",
              "1  December 31, 2017      0  \n",
              "2  December 30, 2017      0  \n",
              "3  December 29, 2017      0  \n",
              "4  December 25, 2017      0  \n",
              "5  December 25, 2017      0  \n",
              "6  December 23, 2017      0  \n",
              "7  December 23, 2017      0  \n",
              "8  December 22, 2017      0  \n",
              "9  December 21, 2017      0  "
            ]
          },
          "execution_count": 13,
          "metadata": {},
          "output_type": "execute_result"
        }
      ],
      "source": [
        "data_merge = pd.concat([data_fake, data_true], axis=0)\n",
        "data_merge.head(10)"
      ]
    },
    {
      "cell_type": "code",
      "execution_count": 14,
      "metadata": {
        "colab": {
          "base_uri": "https://localhost:8080/"
        },
        "id": "yxk8h3lyjc3U",
        "outputId": "d52bac8f-81de-42a2-a3e0-d119fc6ab2c2"
      },
      "outputs": [
        {
          "data": {
            "text/plain": [
              "Index(['title', 'text', 'subject', 'date', 'class'], dtype='object')"
            ]
          },
          "execution_count": 14,
          "metadata": {},
          "output_type": "execute_result"
        }
      ],
      "source": [
        "data_merge.columns"
      ]
    },
    {
      "cell_type": "code",
      "execution_count": 15,
      "metadata": {
        "id": "fpuUXjS3jc6Y"
      },
      "outputs": [],
      "source": [
        "data = data_merge.drop(['title','subject','date'],axis=1)"
      ]
    },
    {
      "cell_type": "code",
      "execution_count": 16,
      "metadata": {
        "colab": {
          "base_uri": "https://localhost:8080/"
        },
        "id": "nPfJKZNBjUMt",
        "outputId": "2cf160cd-258c-4328-e190-fc014a04349c"
      },
      "outputs": [
        {
          "data": {
            "text/plain": [
              "text     0\n",
              "class    0\n",
              "dtype: int64"
            ]
          },
          "execution_count": 16,
          "metadata": {},
          "output_type": "execute_result"
        }
      ],
      "source": [
        "data.isnull().sum()"
      ]
    },
    {
      "cell_type": "code",
      "execution_count": 17,
      "metadata": {
        "id": "xhXsnYnZjUSB"
      },
      "outputs": [],
      "source": [
        "data = data.sample(frac=1)"
      ]
    },
    {
      "cell_type": "code",
      "execution_count": 18,
      "metadata": {
        "colab": {
          "base_uri": "https://localhost:8080/",
          "height": 206
        },
        "id": "vE7Rich2jUVT",
        "outputId": "8f624dad-64b5-4474-9887-c49dfe94c9c0"
      },
      "outputs": [
        {
          "data": {
            "text/html": [
              "<div>\n",
              "<style scoped>\n",
              "    .dataframe tbody tr th:only-of-type {\n",
              "        vertical-align: middle;\n",
              "    }\n",
              "\n",
              "    .dataframe tbody tr th {\n",
              "        vertical-align: top;\n",
              "    }\n",
              "\n",
              "    .dataframe thead th {\n",
              "        text-align: right;\n",
              "    }\n",
              "</style>\n",
              "<table border=\"1\" class=\"dataframe\">\n",
              "  <thead>\n",
              "    <tr style=\"text-align: right;\">\n",
              "      <th></th>\n",
              "      <th>text</th>\n",
              "      <th>class</th>\n",
              "    </tr>\n",
              "  </thead>\n",
              "  <tbody>\n",
              "    <tr>\n",
              "      <th>15807</th>\n",
              "      <td>ROME (Reuters) - Pope Francis made one of his ...</td>\n",
              "      <td>1</td>\n",
              "    </tr>\n",
              "    <tr>\n",
              "      <th>8490</th>\n",
              "      <td>FORT LAUDERDALE, Fla. (Reuters) - Republican p...</td>\n",
              "      <td>1</td>\n",
              "    </tr>\n",
              "    <tr>\n",
              "      <th>8459</th>\n",
              "      <td>CHILMARK, Mass. (Reuters) - Declaring he was t...</td>\n",
              "      <td>1</td>\n",
              "    </tr>\n",
              "    <tr>\n",
              "      <th>5145</th>\n",
              "      <td>More proof that Donald Trump s presidential ca...</td>\n",
              "      <td>0</td>\n",
              "    </tr>\n",
              "    <tr>\n",
              "      <th>2088</th>\n",
              "      <td>Since taking the oath of office, alleged presi...</td>\n",
              "      <td>0</td>\n",
              "    </tr>\n",
              "  </tbody>\n",
              "</table>\n",
              "</div>"
            ],
            "text/plain": [
              "                                                    text  class\n",
              "15807  ROME (Reuters) - Pope Francis made one of his ...      1\n",
              "8490   FORT LAUDERDALE, Fla. (Reuters) - Republican p...      1\n",
              "8459   CHILMARK, Mass. (Reuters) - Declaring he was t...      1\n",
              "5145   More proof that Donald Trump s presidential ca...      0\n",
              "2088   Since taking the oath of office, alleged presi...      0"
            ]
          },
          "execution_count": 18,
          "metadata": {},
          "output_type": "execute_result"
        }
      ],
      "source": [
        "data.head()"
      ]
    },
    {
      "cell_type": "code",
      "execution_count": 19,
      "metadata": {
        "id": "V33ps1FajUYV"
      },
      "outputs": [],
      "source": [
        "data.reset_index(inplace=True)\n",
        "data.drop(['index'],axis=1,inplace=True)"
      ]
    },
    {
      "cell_type": "code",
      "execution_count": 20,
      "metadata": {
        "colab": {
          "base_uri": "https://localhost:8080/",
          "height": 206
        },
        "id": "tcyGHe-_bS_r",
        "outputId": "4abcdd3d-4dc0-43ef-c3d1-afe005cd6195"
      },
      "outputs": [
        {
          "data": {
            "text/html": [
              "<div>\n",
              "<style scoped>\n",
              "    .dataframe tbody tr th:only-of-type {\n",
              "        vertical-align: middle;\n",
              "    }\n",
              "\n",
              "    .dataframe tbody tr th {\n",
              "        vertical-align: top;\n",
              "    }\n",
              "\n",
              "    .dataframe thead th {\n",
              "        text-align: right;\n",
              "    }\n",
              "</style>\n",
              "<table border=\"1\" class=\"dataframe\">\n",
              "  <thead>\n",
              "    <tr style=\"text-align: right;\">\n",
              "      <th></th>\n",
              "      <th>text</th>\n",
              "      <th>class</th>\n",
              "      <th>text_length</th>\n",
              "    </tr>\n",
              "  </thead>\n",
              "  <tbody>\n",
              "    <tr>\n",
              "      <th>0</th>\n",
              "      <td>ROME (Reuters) - Pope Francis made one of his ...</td>\n",
              "      <td>1</td>\n",
              "      <td>3122</td>\n",
              "    </tr>\n",
              "    <tr>\n",
              "      <th>1</th>\n",
              "      <td>FORT LAUDERDALE, Fla. (Reuters) - Republican p...</td>\n",
              "      <td>1</td>\n",
              "      <td>3107</td>\n",
              "    </tr>\n",
              "    <tr>\n",
              "      <th>2</th>\n",
              "      <td>CHILMARK, Mass. (Reuters) - Declaring he was t...</td>\n",
              "      <td>1</td>\n",
              "      <td>1779</td>\n",
              "    </tr>\n",
              "    <tr>\n",
              "      <th>3</th>\n",
              "      <td>More proof that Donald Trump s presidential ca...</td>\n",
              "      <td>0</td>\n",
              "      <td>2669</td>\n",
              "    </tr>\n",
              "    <tr>\n",
              "      <th>4</th>\n",
              "      <td>Since taking the oath of office, alleged presi...</td>\n",
              "      <td>0</td>\n",
              "      <td>3319</td>\n",
              "    </tr>\n",
              "  </tbody>\n",
              "</table>\n",
              "</div>"
            ],
            "text/plain": [
              "                                                text  class  text_length\n",
              "0  ROME (Reuters) - Pope Francis made one of his ...      1         3122\n",
              "1  FORT LAUDERDALE, Fla. (Reuters) - Republican p...      1         3107\n",
              "2  CHILMARK, Mass. (Reuters) - Declaring he was t...      1         1779\n",
              "3  More proof that Donald Trump s presidential ca...      0         2669\n",
              "4  Since taking the oath of office, alleged presi...      0         3319"
            ]
          },
          "execution_count": 20,
          "metadata": {},
          "output_type": "execute_result"
        }
      ],
      "source": [
        "data['text_length'] = data['text'].apply(len)\n",
        "data.head()"
      ]
    },
    {
      "cell_type": "code",
      "execution_count": 21,
      "metadata": {
        "id": "v6f6FSifjUhP"
      },
      "outputs": [],
      "source": [
        "def wordopt(text):\n",
        "    text = text.lower()\n",
        "    text = re.sub('\\[.*?\\]','', text)\n",
        "    # print(text)\n",
        "    text = re.sub(\"\\\\W\",\" \",text )\n",
        "    # print(text)\n",
        "    text = re.sub('http?://\\S+|www\\.\\S+','',text)\n",
        "    # print(text)\n",
        "    text = re.sub('<.*?>+','',text)\n",
        "    # print(text)\n",
        "    text = re.sub('[%s]' % re.escape(string.punctuation),'',text)\n",
        "    # print(text)\n",
        "    text = re.sub('\\n','',text)\n",
        "    # print(text)\n",
        "    text = re.sub('\\w*\\d\\w*','',text)\n",
        "    return text"
      ]
    },
    {
      "cell_type": "code",
      "execution_count": 22,
      "metadata": {
        "id": "rhKnT57mjUpA"
      },
      "outputs": [],
      "source": [
        "data['text']= data['text'].apply(wordopt)"
      ]
    },
    {
      "cell_type": "code",
      "execution_count": 23,
      "metadata": {
        "colab": {
          "base_uri": "https://localhost:8080/",
          "height": 210
        },
        "id": "BpiU4HmCGrxJ",
        "outputId": "01810f9a-d34a-4c50-af6f-3f757a29b140"
      },
      "outputs": [],
      "source": [
        "# from matplotlib import pyplot as plt\n",
        "# _df_5['text_length'].plot(kind='line', figsize=(8, 4), title='text_length')\n",
        "# plt.gca().spines[['top', 'right']].set_visible(False)"
      ]
    },
    {
      "cell_type": "code",
      "execution_count": 24,
      "metadata": {
        "id": "K3ir7hTwGnin"
      },
      "outputs": [],
      "source": [
        "# import matplotlib.pyplot as plt\n",
        "\n",
        "# # Đọc dữ liệu từ tệp CSV vào một DataFrame\n",
        "# # data = pd.read_csv(\"data.csv\")\n",
        "\n",
        "# # Tính tỷ lệ xuất hiện của mỗi giá trị trong cột \"column_name\"\n",
        "# value_counts = data['text_length'].value_counts(normalize=True)\n",
        "\n",
        "# # Vẽ biểu đồ cột của tỷ lệ xuất hiện\n",
        "# plt.figure(figsize=(10, 6))\n",
        "# value_counts.plot(kind='bar')\n",
        "# plt.title('Biểu đồ Tỉ lệ Xuất hiện của Giá Trị trong Cột')\n",
        "# plt.xlabel('Giá Trị')\n",
        "# plt.ylabel('Tỉ lệ xuất hiện')\n",
        "# plt.show()"
      ]
    },
    {
      "cell_type": "code",
      "execution_count": 25,
      "metadata": {
        "colab": {
          "base_uri": "https://localhost:8080/",
          "height": 206
        },
        "id": "BNBztBSTPfMG",
        "outputId": "0e073e71-9afa-403e-fbb8-ca58717244fa"
      },
      "outputs": [
        {
          "data": {
            "text/html": [
              "<div>\n",
              "<style scoped>\n",
              "    .dataframe tbody tr th:only-of-type {\n",
              "        vertical-align: middle;\n",
              "    }\n",
              "\n",
              "    .dataframe tbody tr th {\n",
              "        vertical-align: top;\n",
              "    }\n",
              "\n",
              "    .dataframe thead th {\n",
              "        text-align: right;\n",
              "    }\n",
              "</style>\n",
              "<table border=\"1\" class=\"dataframe\">\n",
              "  <thead>\n",
              "    <tr style=\"text-align: right;\">\n",
              "      <th></th>\n",
              "      <th>text</th>\n",
              "      <th>class</th>\n",
              "      <th>text_length</th>\n",
              "      <th>round_text_length</th>\n",
              "    </tr>\n",
              "  </thead>\n",
              "  <tbody>\n",
              "    <tr>\n",
              "      <th>0</th>\n",
              "      <td>rome  reuters    pope francis made one of his ...</td>\n",
              "      <td>1</td>\n",
              "      <td>3122</td>\n",
              "      <td>4000</td>\n",
              "    </tr>\n",
              "    <tr>\n",
              "      <th>1</th>\n",
              "      <td>fort lauderdale  fla   reuters    republican p...</td>\n",
              "      <td>1</td>\n",
              "      <td>3107</td>\n",
              "      <td>4000</td>\n",
              "    </tr>\n",
              "    <tr>\n",
              "      <th>2</th>\n",
              "      <td>chilmark  mass   reuters    declaring he was t...</td>\n",
              "      <td>1</td>\n",
              "      <td>1779</td>\n",
              "      <td>2000</td>\n",
              "    </tr>\n",
              "    <tr>\n",
              "      <th>3</th>\n",
              "      <td>more proof that donald trump s presidential ca...</td>\n",
              "      <td>0</td>\n",
              "      <td>2669</td>\n",
              "      <td>3000</td>\n",
              "    </tr>\n",
              "    <tr>\n",
              "      <th>4</th>\n",
              "      <td>since taking the oath of office  alleged presi...</td>\n",
              "      <td>0</td>\n",
              "      <td>3319</td>\n",
              "      <td>4000</td>\n",
              "    </tr>\n",
              "  </tbody>\n",
              "</table>\n",
              "</div>"
            ],
            "text/plain": [
              "                                                text  class  text_length  \\\n",
              "0  rome  reuters    pope francis made one of his ...      1         3122   \n",
              "1  fort lauderdale  fla   reuters    republican p...      1         3107   \n",
              "2  chilmark  mass   reuters    declaring he was t...      1         1779   \n",
              "3  more proof that donald trump s presidential ca...      0         2669   \n",
              "4  since taking the oath of office  alleged presi...      0         3319   \n",
              "\n",
              "   round_text_length  \n",
              "0               4000  \n",
              "1               4000  \n",
              "2               2000  \n",
              "3               3000  \n",
              "4               4000  "
            ]
          },
          "execution_count": 25,
          "metadata": {},
          "output_type": "execute_result"
        }
      ],
      "source": [
        "import math\n",
        "data['round_text_length'] = data['text_length']/1000\n",
        "data['round_text_length'] = data['round_text_length'].apply(lambda x: math.ceil(x))\n",
        "data['round_text_length'] = data['round_text_length']*1000\n",
        "data.head()\n",
        "\n",
        "\n",
        "\n"
      ]
    },
    {
      "cell_type": "code",
      "execution_count": 26,
      "metadata": {
        "id": "kw52Ho8wRQQH"
      },
      "outputs": [
        {
          "data": {
            "image/png": "[encoded data removed]",
            "text/plain": [
              "<Figure size 1000x600 with 1 Axes>"
            ]
          },
          "metadata": {},
          "output_type": "display_data"
        }
      ],
      "source": [
        "# Tính tỷ lệ xuất hiện của mỗi giá trị trong cột \"column_name\"\n",
        "value_counts = data['round_text_length'].value_counts(normalize=True)\n",
        "\n",
        "# Vẽ biểu đồ cột của tỷ lệ xuất hiện\n",
        "plt.figure(figsize=(10, 6))\n",
        "value_counts.plot(kind='bar')\n",
        "plt.title('Biểu đồ Tỉ lệ Xuất hiện của Giá Trị trong Cột')\n",
        "plt.xlabel('Giá Trị')\n",
        "plt.ylabel('Tỉ lệ xuất hiện')\n",
        "plt.show()"
      ]
    },
    {
      "cell_type": "code",
      "execution_count": 27,
      "metadata": {
        "id": "z8Ic4MgsRrwW"
      },
      "outputs": [
        {
          "data": {
            "image/png": "[encoded data removed]",
            "text/plain": [
              "<Figure size 1000x600 with 1 Axes>"
            ]
          },
          "metadata": {},
          "output_type": "display_data"
        }
      ],
      "source": [
        "\n",
        "data_bk = data\n",
        "\n",
        "column_name = 'round_text_length'\n",
        "# Calculate the value counts (frequencies)\n",
        "value_counts = data_bk['round_text_length'].value_counts()\n",
        "\n",
        "# Sort the values by index (unique values)\n",
        "value_counts = value_counts.sort_index()\n",
        "\n",
        "# Calculate the total count for normalization\n",
        "total_count = value_counts.sum()\n",
        "\n",
        "# Calculate the rate (frequency normalized to total count)\n",
        "rate = value_counts / total_count\n",
        "\n",
        "# Create the bar plot\n",
        "plt.figure(figsize=(10, 6))\n",
        "rate.plot(kind='bar')\n",
        "plt.title(\"Rate of Values in \" + column_name)\n",
        "plt.xlabel(\"Unique Values\")\n",
        "plt.ylabel(\"Rate\")\n",
        "plt.xticks(rotation=45)\n",
        "plt.show()\n"
      ]
    },
    {
      "cell_type": "code",
      "execution_count": 28,
      "metadata": {
        "id": "ZzLjyoYZShfL"
      },
      "outputs": [
        {
          "data": {
            "image/png": "[encoded data removed]",
            "text/plain": [
              "<Figure size 1000x600 with 1 Axes>"
            ]
          },
          "metadata": {},
          "output_type": "display_data"
        }
      ],
      "source": [
        "data_bkt = data[data['class'] == 1]\n",
        "\n",
        "\n",
        "# Calculate the value counts (frequencies)\n",
        "value_counts = data_bkt['round_text_length'].value_counts()\n",
        "\n",
        "# Sort the values by index (unique values)\n",
        "value_counts = value_counts.sort_index()\n",
        "\n",
        "# Calculate the total count for normalization\n",
        "total_count = value_counts.sum()\n",
        "\n",
        "# Calculate the rate (frequency normalized to total count)\n",
        "rate = value_counts / total_count\n",
        "\n",
        "# Create the bar plot\n",
        "plt.figure(figsize=(10, 6))\n",
        "rate.plot(kind='bar')\n",
        "plt.title(\"Rate of Values in \" + column_name)\n",
        "plt.xlabel(\"Unique Values\")\n",
        "plt.ylabel(\"Rate\")\n",
        "plt.xticks(rotation=45)\n",
        "plt.show()"
      ]
    },
    {
      "cell_type": "code",
      "execution_count": 29,
      "metadata": {
        "id": "boijSsABSzuD"
      },
      "outputs": [
        {
          "data": {
            "image/png": "[encoded data removed]",
            "text/plain": [
              "<Figure size 1000x600 with 1 Axes>"
            ]
          },
          "metadata": {},
          "output_type": "display_data"
        }
      ],
      "source": [
        "data_bkt = data[data['class'] == 0]\n",
        "\n",
        "\n",
        "# Calculate the value counts (frequencies)\n",
        "value_counts = data_bkt['round_text_length'].value_counts()\n",
        "\n",
        "# Sort the values by index (unique values)\n",
        "value_counts = value_counts.sort_index()\n",
        "\n",
        "# Calculate the total count for normalization\n",
        "total_count = value_counts.sum()\n",
        "\n",
        "# Calculate the rate (frequency normalized to total count)\n",
        "rate = value_counts / total_count\n",
        "\n",
        "# Create the bar plot\n",
        "plt.figure(figsize=(10, 6))\n",
        "rate.plot(kind='bar')\n",
        "plt.title(\"Rate of Values in \" + column_name)\n",
        "plt.xlabel(\"Unique Values\")\n",
        "plt.ylabel(\"Rate\")\n",
        "plt.xticks(rotation=45)\n",
        "plt.show()"
      ]
    },
    {
      "cell_type": "code",
      "execution_count": 30,
      "metadata": {
        "id": "ICUhGyt4Tn3-"
      },
      "outputs": [
        {
          "name": "stdout",
          "output_type": "stream",
          "text": [
            "Series([], Name: class, dtype: float64)\n",
            "1    0.596343\n",
            "0    0.403657\n",
            "Name: class, dtype: float64\n",
            "0    0.608472\n",
            "1    0.391528\n",
            "Name: class, dtype: float64\n",
            "0    0.558117\n",
            "1    0.441883\n",
            "Name: class, dtype: float64\n",
            "0    0.549725\n",
            "1    0.450275\n",
            "Name: class, dtype: float64\n",
            "1    0.602784\n",
            "0    0.397216\n",
            "Name: class, dtype: float64\n",
            "1    0.66956\n",
            "0    0.33044\n",
            "Name: class, dtype: float64\n",
            "1    0.662465\n",
            "0    0.337535\n",
            "Name: class, dtype: float64\n",
            "0    0.524934\n",
            "1    0.475066\n",
            "Name: class, dtype: float64\n",
            "0    0.654054\n",
            "1    0.345946\n",
            "Name: class, dtype: float64\n",
            "0    0.834483\n",
            "1    0.165517\n",
            "Name: class, dtype: float64\n",
            "0    0.846154\n",
            "1    0.153846\n",
            "Name: class, dtype: float64\n",
            "0    0.824561\n",
            "1    0.175439\n",
            "Name: class, dtype: float64\n",
            "0    0.803922\n",
            "1    0.196078\n",
            "Name: class, dtype: float64\n",
            "0    0.952381\n",
            "1    0.047619\n",
            "Name: class, dtype: float64\n",
            "0    0.833333\n",
            "1    0.166667\n",
            "Name: class, dtype: float64\n",
            "0    0.92\n",
            "1    0.08\n",
            "Name: class, dtype: float64\n",
            "0    0.947368\n",
            "1    0.052632\n",
            "Name: class, dtype: float64\n",
            "0    0.75\n",
            "1    0.25\n",
            "Name: class, dtype: float64\n",
            "0    0.764706\n",
            "1    0.235294\n",
            "Name: class, dtype: float64\n",
            "0    1.0\n",
            "Name: class, dtype: float64\n",
            "0    1.0\n",
            "Name: class, dtype: float64\n",
            "1    0.5\n",
            "0    0.5\n",
            "Name: class, dtype: float64\n",
            "0    1.0\n",
            "Name: class, dtype: float64\n",
            "0    0.818182\n",
            "1    0.181818\n",
            "Name: class, dtype: float64\n",
            "0    0.5\n",
            "1    0.5\n",
            "Name: class, dtype: float64\n",
            "0    1.0\n",
            "Name: class, dtype: float64\n",
            "0    1.0\n",
            "Name: class, dtype: float64\n",
            "0    1.0\n",
            "Name: class, dtype: float64\n",
            "0    1.0\n",
            "Name: class, dtype: float64\n",
            "1    1.0\n",
            "Name: class, dtype: float64\n",
            "Series([], Name: class, dtype: float64)\n",
            "0    1.0\n",
            "Name: class, dtype: float64\n",
            "0    1.0\n",
            "Name: class, dtype: float64\n",
            "0    1.0\n",
            "Name: class, dtype: float64\n",
            "Series([], Name: class, dtype: float64)\n",
            "0    1.0\n",
            "Name: class, dtype: float64\n",
            "0    1.0\n",
            "Name: class, dtype: float64\n",
            "Series([], Name: class, dtype: float64)\n",
            "Series([], Name: class, dtype: float64)\n",
            "0    1.0\n",
            "Name: class, dtype: float64\n",
            "Series([], Name: class, dtype: float64)\n",
            "Series([], Name: class, dtype: float64)\n",
            "Series([], Name: class, dtype: float64)\n",
            "Series([], Name: class, dtype: float64)\n",
            "0    1.0\n",
            "Name: class, dtype: float64\n",
            "Series([], Name: class, dtype: float64)\n",
            "0    1.0\n",
            "Name: class, dtype: float64\n",
            "Series([], Name: class, dtype: float64)\n",
            "0    1.0\n",
            "Name: class, dtype: float64\n",
            "0    1.0\n",
            "Name: class, dtype: float64\n",
            "Series([], Name: class, dtype: float64)\n",
            "0    1.0\n",
            "Name: class, dtype: float64\n"
          ]
        }
      ],
      "source": [
        "\n",
        "total_count = 0\n",
        "value_counts = 0\n",
        "for i in range(1, 54, 1):\n",
        "    # Code to be executed in each iteration\n",
        "  i=i*1000\n",
        "  data_bk1000 = data[(data['round_text_length'] < i) & (data['round_text_length'] >= (i-1000))]\n",
        "\n",
        "  # Calculate the value counts (frequencies)\n",
        "  value_counts = data_bk1000['class'].value_counts()\n",
        "\n",
        "  # Calculate the total count for normalization\n",
        "  total_count = value_counts.sum()\n",
        "\n",
        "  # Calculate the rate (frequency normalized to total count)\n",
        "  rate = value_counts / total_count\n",
        "  # print(i,\"....\",rate,\"----\",total_count)\n",
        "  print(rate)\n",
        "  # Create the bar plot\n",
        "  # plt.figure(figsize=(10, 6))\n",
        "  # rate.plot(kind='bar')\n",
        "  # plt.title(\"Rate of Values in \" + column_name)\n",
        "  # string = \"Unique Values: \" + str(i)\n",
        "  # plt.xlabel(i,string)\n",
        "  # plt.ylabel(\"Rate\")\n",
        "  # plt.xticks(rotation=45)\n",
        "  # plt.show()\n"
      ]
    },
    {
      "cell_type": "code",
      "execution_count": 31,
      "metadata": {
        "id": "BKOCzvsBjBzY"
      },
      "outputs": [
        {
          "name": "stdout",
          "output_type": "stream",
          "text": [
            "                                                    text  class  text_length  \\\n",
            "0      rome  reuters    pope francis made one of his ...      1         3122   \n",
            "1      fort lauderdale  fla   reuters    republican p...      1         3107   \n",
            "2      chilmark  mass   reuters    declaring he was t...      1         1779   \n",
            "3      more proof that donald trump s presidential ca...      0         2669   \n",
            "4      since taking the oath of office  alleged presi...      0         3319   \n",
            "...                                                  ...    ...          ...   \n",
            "45412  new delhi  reuters    india s ruling bharatiya...      1         2955   \n",
            "45413  berlin  reuters    germany hopes to resume its...      1         1539   \n",
            "45414  brussels  reuters    u s  secretary of state j...      1         1999   \n",
            "45415  a republican senator has compared president ob...      0         1850   \n",
            "45416  earlier today  the disgraced former host of ms...      0         2784   \n",
            "\n",
            "       round_text_length  \n",
            "0                   4000  \n",
            "1                   4000  \n",
            "2                   2000  \n",
            "3                   3000  \n",
            "4                   4000  \n",
            "...                  ...  \n",
            "45412               3000  \n",
            "45413               2000  \n",
            "45414               2000  \n",
            "45415               2000  \n",
            "45416               3000  \n",
            "\n",
            "[45417 rows x 4 columns]\n"
          ]
        }
      ],
      "source": [
        "print(data)"
      ]
    },
    {
      "cell_type": "code",
      "execution_count": 32,
      "metadata": {
        "colab": {
          "base_uri": "https://localhost:8080/"
        },
        "id": "0JJ_3TqqjUbX",
        "outputId": "d4de6c87-a934-4894-db06-6a8ab9e3a456"
      },
      "outputs": [
        {
          "data": {
            "text/plain": [
              "Index(['text', 'class', 'text_length', 'round_text_length'], dtype='object')"
            ]
          },
          "execution_count": 32,
          "metadata": {},
          "output_type": "execute_result"
        }
      ],
      "source": [
        "data.columns"
      ]
    },
    {
      "cell_type": "code",
      "execution_count": 33,
      "metadata": {
        "colab": {
          "base_uri": "https://localhost:8080/"
        },
        "id": "GbnvUEvNc-nm",
        "outputId": "aa9495b2-2a69-4068-dc8d-d6faaaaa9499"
      },
      "outputs": [
        {
          "name": "stdout",
          "output_type": "stream",
          "text": [
            "[3122 3107 1779 ... 6811 4708 8418] 51794\n"
          ]
        }
      ],
      "source": [
        "unique_categories = data['text_length'].unique()\n",
        "\n",
        "\n",
        "print((unique_categories), max(unique_categories))"
      ]
    },
    {
      "cell_type": "code",
      "execution_count": 34,
      "metadata": {
        "id": "7cqiwwm1ingd"
      },
      "outputs": [],
      "source": [
        "x=data['text']\n",
        "y=data['class']"
      ]
    },
    {
      "cell_type": "code",
      "execution_count": 35,
      "metadata": {
        "id": "X4JMp-gyvGOE"
      },
      "outputs": [],
      "source": [
        "x_train, x_test, y_train, y_test = train_test_split(x,y,test_size=0.25)"
      ]
    },
    {
      "cell_type": "code",
      "execution_count": 36,
      "metadata": {},
      "outputs": [],
      "source": [
        "# x_train.columns"
      ]
    },
    {
      "cell_type": "code",
      "execution_count": 37,
      "metadata": {
        "id": "NkkWT9WyvGRj"
      },
      "outputs": [
        {
          "data": {
            "text/plain": [
              "['vectorization.joblib']"
            ]
          },
          "execution_count": 37,
          "metadata": {},
          "output_type": "execute_result"
        }
      ],
      "source": [
        "from sklearn.feature_extraction.text import TfidfVectorizer\n",
        "vectorization = TfidfVectorizer()\n",
        "joblib.dump(vectorization, 'vectorization.joblib')\n"
      ]
    },
    {
      "cell_type": "code",
      "execution_count": 38,
      "metadata": {},
      "outputs": [
        {
          "data": {
            "text/plain": [
              "['y_test.joblib']"
            ]
          },
          "execution_count": 38,
          "metadata": {},
          "output_type": "execute_result"
        }
      ],
      "source": [
        "# Lưu tập huấn luyện X_train vào tệp .pkl\n",
        "joblib.dump(x_train, 'X_train.joblib')\n",
        "\n",
        "# Lưu tập huấn luyện y_train vào tệp .pkl\n",
        "joblib.dump(y_train, 'y_train.joblib')\n",
        "# Lưu tập huấn luyện X_train vào tệp .pkl\n",
        "joblib.dump(x_test, 'X_test.joblib')\n",
        "\n",
        "# Lưu tập huấn luyện y_train vào tệp .pkl\n",
        "joblib.dump(y_test, 'y_test.joblib')"
      ]
    },
    {
      "cell_type": "code",
      "execution_count": 39,
      "metadata": {
        "colab": {
          "base_uri": "https://localhost:8080/",
          "height": 74
        },
        "id": "siimceqFvGUp",
        "outputId": "ad942920-22b2-4436-a519-1f6d13bb7b62"
      },
      "outputs": [
        {
          "data": {
            "text/plain": [
              "Pipeline(steps=[('tfidf', TfidfVectorizer()),\n",
              "                ('classifier', LogisticRegression())])"
            ]
          },
          "execution_count": 39,
          "metadata": {},
          "output_type": "execute_result"
        }
      ],
      "source": [
        "from sklearn.linear_model import LogisticRegression\n",
        "\n",
        "LR = LogisticRegression()\n",
        "from sklearn.pipeline import Pipeline\n",
        "pipeline_lr = Pipeline([\n",
        "    ('tfidf', TfidfVectorizer()),\n",
        "    ('classifier', LogisticRegression())\n",
        "])\n",
        "pipeline_lr.fit(x_train, y_train)\n",
        "\n"
      ]
    },
    {
      "cell_type": "code",
      "execution_count": 40,
      "metadata": {
        "id": "y_2RB4f_vGXi"
      },
      "outputs": [],
      "source": [
        "pred_lr = pipeline_lr.predict(x_test)\n"
      ]
    },
    {
      "cell_type": "code",
      "execution_count": 41,
      "metadata": {
        "colab": {
          "base_uri": "https://localhost:8080/"
        },
        "id": "P-z8xAOcvGau",
        "outputId": "2ddfa7aa-ef03-417a-cc83-77637197109b"
      },
      "outputs": [
        {
          "data": {
            "text/plain": [
              "['pipeline_lr.joblib']"
            ]
          },
          "execution_count": 41,
          "metadata": {},
          "output_type": "execute_result"
        }
      ],
      "source": [
        "pipeline_lr.score(x_test, y_test)\n",
        "joblib.dump(pipeline_lr, 'pipeline_lr.joblib')"
      ]
    },
    {
      "cell_type": "code",
      "execution_count": 42,
      "metadata": {
        "colab": {
          "base_uri": "https://localhost:8080/"
        },
        "id": "D3tU_ibFvGdn",
        "outputId": "3b6046e4-ec71-4805-9df4-a808b6deab34"
      },
      "outputs": [
        {
          "name": "stdout",
          "output_type": "stream",
          "text": [
            "              precision    recall  f1-score   support\n",
            "\n",
            "           0       0.99      0.98      0.98      5772\n",
            "           1       0.98      0.99      0.98      5583\n",
            "\n",
            "    accuracy                           0.98     11355\n",
            "   macro avg       0.98      0.98      0.98     11355\n",
            "weighted avg       0.98      0.98      0.98     11355\n",
            "\n"
          ]
        }
      ],
      "source": [
        "print(classification_report(y_test, pred_lr))"
      ]
    },
    {
      "cell_type": "code",
      "execution_count": 43,
      "metadata": {
        "colab": {
          "base_uri": "https://localhost:8080/",
          "height": 74
        },
        "id": "jT-jInb7vGgz",
        "outputId": "06d89e9a-f26b-442c-f9c4-a5636ce08009"
      },
      "outputs": [
        {
          "data": {
            "text/plain": [
              "Pipeline(steps=[('tfidf', TfidfVectorizer()),\n",
              "                ('classifier', DecisionTreeClassifier())])"
            ]
          },
          "execution_count": 43,
          "metadata": {},
          "output_type": "execute_result"
        }
      ],
      "source": [
        "from sklearn.tree import DecisionTreeClassifier\n",
        "\n",
        "DT = DecisionTreeClassifier()\n",
        "pipeline_dt = Pipeline([\n",
        "    ('tfidf', TfidfVectorizer()),\n",
        "    ('classifier', DecisionTreeClassifier())\n",
        "])\n",
        "pipeline_dt.fit(x_train, y_train)"
      ]
    },
    {
      "cell_type": "code",
      "execution_count": 44,
      "metadata": {
        "id": "W0wFXAGTvGj8"
      },
      "outputs": [],
      "source": [
        "pred_dt = pipeline_dt.predict(x_test)"
      ]
    },
    {
      "cell_type": "code",
      "execution_count": 45,
      "metadata": {
        "colab": {
          "base_uri": "https://localhost:8080/"
        },
        "id": "KJapY265vGnN",
        "outputId": "3dd45e32-f938-4168-f51b-b349c0e36a45"
      },
      "outputs": [
        {
          "data": {
            "text/plain": [
              "['pipeline_dt.joblib']"
            ]
          },
          "execution_count": 45,
          "metadata": {},
          "output_type": "execute_result"
        }
      ],
      "source": [
        "pipeline_dt.score(x_test, y_test)\n",
        "joblib.dump(pipeline_dt, 'pipeline_dt.joblib')"
      ]
    },
    {
      "cell_type": "code",
      "execution_count": 46,
      "metadata": {
        "colab": {
          "base_uri": "https://localhost:8080/"
        },
        "id": "2D_VNVcwvGqd",
        "outputId": "071d1263-a38f-4888-a92c-f4c851b27dea"
      },
      "outputs": [
        {
          "name": "stdout",
          "output_type": "stream",
          "text": [
            "              precision    recall  f1-score   support\n",
            "\n",
            "           0       0.99      0.99      0.99      5772\n",
            "           1       0.99      0.99      0.99      5583\n",
            "\n",
            "    accuracy                           0.99     11355\n",
            "   macro avg       0.99      0.99      0.99     11355\n",
            "weighted avg       0.99      0.99      0.99     11355\n",
            "\n"
          ]
        }
      ],
      "source": [
        "print(classification_report(y_test, pred_dt))"
      ]
    },
    {
      "cell_type": "code",
      "execution_count": 47,
      "metadata": {
        "colab": {
          "base_uri": "https://localhost:8080/",
          "height": 74
        },
        "id": "E1_TvGKrwdt9",
        "outputId": "22aac47f-0b81-4e51-8413-649df5585edd"
      },
      "outputs": [
        {
          "data": {
            "text/plain": [
              "Pipeline(steps=[('tfidf', TfidfVectorizer()),\n",
              "                ('GradientBoostingClassifier', GradientBoostingClassifier())])"
            ]
          },
          "execution_count": 47,
          "metadata": {},
          "output_type": "execute_result"
        }
      ],
      "source": [
        "from sklearn.ensemble import GradientBoostingClassifier\n",
        "\n",
        "GB = GradientBoostingClassifier()\n",
        "pipeline_gb = Pipeline([\n",
        "    ('tfidf', TfidfVectorizer()),\n",
        "    ('GradientBoostingClassifier', GradientBoostingClassifier())\n",
        "])\n",
        "pipeline_gb.fit(x_train, y_train)\n"
      ]
    },
    {
      "cell_type": "code",
      "execution_count": 48,
      "metadata": {
        "id": "w1OrjVrBwdxB"
      },
      "outputs": [],
      "source": [
        "predict_gb = pipeline_gb.predict(x_test)"
      ]
    },
    {
      "cell_type": "code",
      "execution_count": 49,
      "metadata": {
        "colab": {
          "base_uri": "https://localhost:8080/"
        },
        "id": "1j3xRXbNwdz8",
        "outputId": "a3ea1bf1-9be5-4489-ba65-2db7e3018fb3"
      },
      "outputs": [
        {
          "data": {
            "text/plain": [
              "['pipeline_gb.joblib']"
            ]
          },
          "execution_count": 49,
          "metadata": {},
          "output_type": "execute_result"
        }
      ],
      "source": [
        "pipeline_gb.score(x_test, y_test)\n",
        "joblib.dump(pipeline_gb, 'pipeline_gb.joblib')\n"
      ]
    },
    {
      "cell_type": "code",
      "execution_count": 50,
      "metadata": {
        "colab": {
          "base_uri": "https://localhost:8080/"
        },
        "id": "rHaL4E7vwd3A",
        "outputId": "df97f52d-08c5-4b0e-8e70-90683d1497c4"
      },
      "outputs": [
        {
          "name": "stdout",
          "output_type": "stream",
          "text": [
            "              precision    recall  f1-score   support\n",
            "\n",
            "           0       0.99      0.99      0.99      5772\n",
            "           1       0.99      0.99      0.99      5583\n",
            "\n",
            "    accuracy                           0.99     11355\n",
            "   macro avg       0.99      0.99      0.99     11355\n",
            "weighted avg       0.99      0.99      0.99     11355\n",
            "\n"
          ]
        }
      ],
      "source": [
        "print(classification_report(y_test, predict_gb))"
      ]
    },
    {
      "cell_type": "code",
      "execution_count": 51,
      "metadata": {
        "colab": {
          "base_uri": "https://localhost:8080/",
          "height": 74
        },
        "id": "xMz1qf6gwd6F",
        "outputId": "dacf287d-39b2-4a44-bb42-0d073570c49f"
      },
      "outputs": [
        {
          "data": {
            "text/plain": [
              "Pipeline(steps=[('tfidf', TfidfVectorizer()),\n",
              "                ('classifier', RandomForestClassifier())])"
            ]
          },
          "execution_count": 51,
          "metadata": {},
          "output_type": "execute_result"
        }
      ],
      "source": [
        "from sklearn.ensemble import RandomForestClassifier\n",
        "\n",
        "RF = RandomForestClassifier()\n",
        "pipeline_rf = Pipeline([\n",
        "    ('tfidf', TfidfVectorizer()),\n",
        "    ('classifier', RandomForestClassifier())\n",
        "])\n",
        "pipeline_rf.fit(x_train, y_train)\n"
      ]
    },
    {
      "cell_type": "code",
      "execution_count": 52,
      "metadata": {
        "id": "vmwAazbqvGtd"
      },
      "outputs": [],
      "source": [
        "predict_rf = pipeline_rf.predict(x_test)"
      ]
    },
    {
      "cell_type": "code",
      "execution_count": 53,
      "metadata": {
        "colab": {
          "base_uri": "https://localhost:8080/"
        },
        "id": "ocnZmLRRvGwf",
        "outputId": "e582dda9-192a-4c98-fa53-b1aaeb2517dc"
      },
      "outputs": [
        {
          "data": {
            "text/plain": [
              "['pipeline_rf.joblib']"
            ]
          },
          "execution_count": 53,
          "metadata": {},
          "output_type": "execute_result"
        }
      ],
      "source": [
        "pipeline_rf.score(x_test, y_test)\n",
        "joblib.dump(pipeline_rf, 'pipeline_rf.joblib')"
      ]
    },
    {
      "cell_type": "code",
      "execution_count": 54,
      "metadata": {
        "colab": {
          "base_uri": "https://localhost:8080/"
        },
        "id": "eSvvsvCavGzi",
        "outputId": "db41ad3c-31e9-4c80-8d3c-cc0ef13420fe"
      },
      "outputs": [
        {
          "name": "stdout",
          "output_type": "stream",
          "text": [
            "              precision    recall  f1-score   support\n",
            "\n",
            "           0       0.98      0.99      0.98      5772\n",
            "           1       0.99      0.98      0.98      5583\n",
            "\n",
            "    accuracy                           0.98     11355\n",
            "   macro avg       0.98      0.98      0.98     11355\n",
            "weighted avg       0.98      0.98      0.98     11355\n",
            "\n"
          ]
        }
      ],
      "source": [
        "print(classification_report(y_test, predict_rf))"
      ]
    },
    {
      "cell_type": "code",
      "execution_count": 55,
      "metadata": {
        "id": "zrJTHctHxt_z"
      },
      "outputs": [],
      "source": [
        "# def output_lable(n):\n",
        "#     if n==0:\n",
        "#         return \"Fake NEWS\"\n",
        "#     elif n==1:\n",
        "#         return \"Real NEWS\"\n",
        "\n",
        "# def manual_testing(news):\n",
        "#     testing_news = {'text':[news]}\n",
        "#     # print(\"tẽt\",news)\n",
        "#     new_def_test = pd.DataFrame(testing_news)\n",
        "#     new_def_test[\"text\"] = new_def_test[\"text\"].apply(wordopt)\n",
        "#     new_x_test = new_def_test[\"text\"]\n",
        "#     print(\"len\",new_x_test)\n",
        "#     new_xv_test = vectorization.transform(new_x_test)\n",
        "#     pred_dt=DT.predict(new_xv_test)\n",
        "#     pred_lr = LR.predict(new_xv_test)\n",
        "#     predict_gb=GB.predict(new_xv_test)\n",
        "#     predict_rf=RF.predict(new_xv_test)\n",
        "\n",
        "#     return print(\"\\n\\nDT Prediction: {} \\nLR Prediction: {} \\nGB Prediction: {} \\nRF Prediction: {}\".format(\n",
        "#                     output_lable(pred_dt[0]),\n",
        "#                     output_lable(pred_lr[0]),\n",
        "#                     output_lable(predict_gb[0]),\n",
        "#                     output_lable(predict_rf[0])\n",
        "#                    ))\n",
        "#     # return print(\"\\n\\nRF Prediction: {}\".format(\n",
        "#     #                 output_lable(pred_lr[0]),\n",
        "#     #                 output_lable(predict_rf[0])\n",
        "#     #                ))\n"
      ]
    },
    {
      "cell_type": "code",
      "execution_count": 27,
      "metadata": {},
      "outputs": [],
      "source": [
        "import joblib\n",
        "import re\n",
        "import pandas as pd\n",
        "import string\n",
        "\n",
        "\n",
        "def wordopt(text):\n",
        "    text = re.findall(r'<a\\s+href=\"(.*?)\"', text)\n",
        "    text = \" \".join(map(str, text))\n",
        "    text = text.lower()\n",
        "    text = re.sub('\\[.*?\\]','', text)\n",
        "    text = re.sub(\"\\\\W\",\" \",text )\n",
        "    text = re.sub('http?://\\S+|www\\.\\S+','',text)\n",
        "    text = re.sub('<.*?>+','',text)\n",
        "    text = re.sub('[%s]' % re.escape(string.punctuation),'',text)\n",
        "    text = re.sub('\\n','',text)\n",
        "    text = re.sub('\\w*\\d\\w*','',text)\n",
        "    return text\n",
        "def output_lable(n):\n",
        "    if n==0:\n",
        "        return \"Fake NEWS\"\n",
        "    elif n==1:\n",
        "        return \"Real NEWS\"\n",
        "vectorization = joblib.load('vectorization.joblib')\n",
        "pipeline_lr = joblib.load('pipeline_lr.joblib')\n",
        "pipeline_dt = joblib.load('pipeline_dt.joblib')\n",
        "pipeline_rf = joblib.load('pipeline_rf.joblib')\n",
        "pipeline_gb = joblib.load('pipeline_gb.joblib')\n",
        "def manual_testing(news):\n",
        "    testing_news = {'text':[news]}\n",
        "    \n",
        "    # print(\"tẽt\",news)\n",
        "    new_def_test = pd.DataFrame(testing_news)\n",
        "    vectorization.fit(new_def_test)\n",
        "    new_def_test[\"text\"] = new_def_test[\"text\"].apply(wordopt)\n",
        "    new_x_test = new_def_test[\"text\"]\n",
        "    new_xv_tes = vectorization.transform(new_x_test)\n",
        "    # print(type(new_xv_test))\n",
        "    # new_xv_test = csr_matrix(new_x_test)\n",
        "    # print(\"len\",new_x_test)\n",
        "    new_xv_test = vectorization.transform(new_x_test)\n",
        "    pred_dt=pipeline_dt.predict(new_xv_test)\n",
        "    pred_lr = pipeline_lr.predict(new_def_test)\n",
        "    predict_gb=pipeline_gb.predict(new_def_test)\n",
        "    predict_rf=pipeline_rf.predict(new_def_test)\n",
        "\n",
        "    return print(\"\\n\\nDT Prediction: {} \\nLR Prediction: {} \\nGB Prediction: {} \\nRF Prediction: {}\".format(\n",
        "                    output_lable(pred_dt[0]),\n",
        "                    output_lable(pred_lr[0]),\n",
        "                    output_lable(predict_gb[0]),\n",
        "                    output_lable(predict_rf[0])\n",
        "                   ))\n"
      ]
    },
    {
      "cell_type": "code",
      "execution_count": 29,
      "metadata": {},
      "outputs": [
        {
          "ename": "AttributeError",
          "evalue": "lower not found",
          "output_type": "error",
          "traceback": [
            "\u001b[1;31m---------------------------------------------------------------------------\u001b[0m",
            "\u001b[1;31mAttributeError\u001b[0m                            Traceback (most recent call last)",
            "\u001b[1;32me:\\Tài liệu môn học\\Đồ án\\pbl6\\detectFakeNEWS\\5glassesNews-detect-fake-news\\codeTraining.ipynb Cell 58\u001b[0m line \u001b[0;36m3\n\u001b[0;32m      <a href='vscode-notebook-cell:/e%3A/Ta%CC%80i%20li%C3%AA%CC%A3u%20m%C3%B4n%20h%E1%BB%8Dc/%C4%90%E1%BB%93%20%C3%A1n/pbl6/detectFakeNEWS/5glassesNews-detect-fake-news/codeTraining.ipynb#Y111sZmlsZQ%3D%3D?line=0'>1</a>\u001b[0m \u001b[39mstr\u001b[39m \u001b[39m=\u001b[39m \u001b[39m\"\"\"\u001b[39m\u001b[39mWASHINGTON (AP) — With little time left to prevent a government shutdown, the House is in a familiar position: effectively paralyzed as conservatives feud with Speaker Kevin McCarthy over matters large and small. McCarthy has pushed the Republican conference to embrace a short-term funding plan that would also include a sweeping Republican proposal for the southern border. But a small group of hardline conservatives has defied the speaker in a quest to get rid of stopgap funding plans, known as continuing resolutions, even if opposing them means forcing a government shutdown. It’s left McCarthy at an impasse. He will likely be left with the political damage of a shutdown unless he turns to Democrats for help in passing a bipartisan bill. But working with Democrats would give hard-right Republicans reason to remove him as speaker.\u001b[39m\u001b[39m\"\"\"\u001b[39m\n\u001b[1;32m----> <a href='vscode-notebook-cell:/e%3A/Ta%CC%80i%20li%C3%AA%CC%A3u%20m%C3%B4n%20h%E1%BB%8Dc/%C4%90%E1%BB%93%20%C3%A1n/pbl6/detectFakeNEWS/5glassesNews-detect-fake-news/codeTraining.ipynb#Y111sZmlsZQ%3D%3D?line=2'>3</a>\u001b[0m res \u001b[39m=\u001b[39m manual_testing(\u001b[39mstr\u001b[39;49m)\n",
            "\u001b[1;32me:\\Tài liệu môn học\\Đồ án\\pbl6\\detectFakeNEWS\\5glassesNews-detect-fake-news\\codeTraining.ipynb Cell 58\u001b[0m line \u001b[0;36m4\n\u001b[0;32m     <a href='vscode-notebook-cell:/e%3A/Ta%CC%80i%20li%C3%AA%CC%A3u%20m%C3%B4n%20h%E1%BB%8Dc/%C4%90%E1%BB%93%20%C3%A1n/pbl6/detectFakeNEWS/5glassesNews-detect-fake-news/codeTraining.ipynb#Y111sZmlsZQ%3D%3D?line=37'>38</a>\u001b[0m \u001b[39m# print(type(new_xv_test))\u001b[39;00m\n\u001b[0;32m     <a href='vscode-notebook-cell:/e%3A/Ta%CC%80i%20li%C3%AA%CC%A3u%20m%C3%B4n%20h%E1%BB%8Dc/%C4%90%E1%BB%93%20%C3%A1n/pbl6/detectFakeNEWS/5glassesNews-detect-fake-news/codeTraining.ipynb#Y111sZmlsZQ%3D%3D?line=38'>39</a>\u001b[0m \u001b[39m# new_xv_test = csr_matrix(new_x_test)\u001b[39;00m\n\u001b[0;32m     <a href='vscode-notebook-cell:/e%3A/Ta%CC%80i%20li%C3%AA%CC%A3u%20m%C3%B4n%20h%E1%BB%8Dc/%C4%90%E1%BB%93%20%C3%A1n/pbl6/detectFakeNEWS/5glassesNews-detect-fake-news/codeTraining.ipynb#Y111sZmlsZQ%3D%3D?line=39'>40</a>\u001b[0m \u001b[39m# print(\"len\",new_x_test)\u001b[39;00m\n\u001b[0;32m     <a href='vscode-notebook-cell:/e%3A/Ta%CC%80i%20li%C3%AA%CC%A3u%20m%C3%B4n%20h%E1%BB%8Dc/%C4%90%E1%BB%93%20%C3%A1n/pbl6/detectFakeNEWS/5glassesNews-detect-fake-news/codeTraining.ipynb#Y111sZmlsZQ%3D%3D?line=40'>41</a>\u001b[0m new_xv_test \u001b[39m=\u001b[39m vectorization\u001b[39m.\u001b[39mtransform(new_x_test)\n\u001b[1;32m---> <a href='vscode-notebook-cell:/e%3A/Ta%CC%80i%20li%C3%AA%CC%A3u%20m%C3%B4n%20h%E1%BB%8Dc/%C4%90%E1%BB%93%20%C3%A1n/pbl6/detectFakeNEWS/5glassesNews-detect-fake-news/codeTraining.ipynb#Y111sZmlsZQ%3D%3D?line=41'>42</a>\u001b[0m pred_dt\u001b[39m=\u001b[39mpipeline_dt\u001b[39m.\u001b[39;49mpredict(new_xv_test)\n\u001b[0;32m     <a href='vscode-notebook-cell:/e%3A/Ta%CC%80i%20li%C3%AA%CC%A3u%20m%C3%B4n%20h%E1%BB%8Dc/%C4%90%E1%BB%93%20%C3%A1n/pbl6/detectFakeNEWS/5glassesNews-detect-fake-news/codeTraining.ipynb#Y111sZmlsZQ%3D%3D?line=42'>43</a>\u001b[0m pred_lr \u001b[39m=\u001b[39m pipeline_lr\u001b[39m.\u001b[39mpredict(new_def_test)\n\u001b[0;32m     <a href='vscode-notebook-cell:/e%3A/Ta%CC%80i%20li%C3%AA%CC%A3u%20m%C3%B4n%20h%E1%BB%8Dc/%C4%90%E1%BB%93%20%C3%A1n/pbl6/detectFakeNEWS/5glassesNews-detect-fake-news/codeTraining.ipynb#Y111sZmlsZQ%3D%3D?line=43'>44</a>\u001b[0m predict_gb\u001b[39m=\u001b[39mpipeline_gb\u001b[39m.\u001b[39mpredict(new_def_test)\n",
            "File \u001b[1;32m~\\AppData\\Local\\Packages\\PythonSoftwareFoundation.Python.3.9_qbz5n2kfra8p0\\LocalCache\\local-packages\\Python39\\site-packages\\sklearn\\utils\\metaestimators.py:113\u001b[0m, in \u001b[0;36m_AvailableIfDescriptor.__get__.<locals>.<lambda>\u001b[1;34m(*args, **kwargs)\u001b[0m\n\u001b[0;32m    110\u001b[0m         \u001b[39mraise\u001b[39;00m attr_err\n\u001b[0;32m    112\u001b[0m     \u001b[39m# lambda, but not partial, allows help() to work with update_wrapper\u001b[39;00m\n\u001b[1;32m--> 113\u001b[0m     out \u001b[39m=\u001b[39m \u001b[39mlambda\u001b[39;00m \u001b[39m*\u001b[39margs, \u001b[39m*\u001b[39m\u001b[39m*\u001b[39mkwargs: \u001b[39mself\u001b[39m\u001b[39m.\u001b[39mfn(obj, \u001b[39m*\u001b[39margs, \u001b[39m*\u001b[39m\u001b[39m*\u001b[39mkwargs)  \u001b[39m# noqa\u001b[39;00m\n\u001b[0;32m    114\u001b[0m \u001b[39melse\u001b[39;00m:\n\u001b[0;32m    116\u001b[0m     \u001b[39mdef\u001b[39;00m \u001b[39mfn\u001b[39m(\u001b[39m*\u001b[39margs, \u001b[39m*\u001b[39m\u001b[39m*\u001b[39mkwargs):\n",
            "File \u001b[1;32m~\\AppData\\Local\\Packages\\PythonSoftwareFoundation.Python.3.9_qbz5n2kfra8p0\\LocalCache\\local-packages\\Python39\\site-packages\\sklearn\\pipeline.py:469\u001b[0m, in \u001b[0;36mPipeline.predict\u001b[1;34m(self, X, **predict_params)\u001b[0m\n\u001b[0;32m    467\u001b[0m Xt \u001b[39m=\u001b[39m X\n\u001b[0;32m    468\u001b[0m \u001b[39mfor\u001b[39;00m _, name, transform \u001b[39min\u001b[39;00m \u001b[39mself\u001b[39m\u001b[39m.\u001b[39m_iter(with_final\u001b[39m=\u001b[39m\u001b[39mFalse\u001b[39;00m):\n\u001b[1;32m--> 469\u001b[0m     Xt \u001b[39m=\u001b[39m transform\u001b[39m.\u001b[39;49mtransform(Xt)\n\u001b[0;32m    470\u001b[0m \u001b[39mreturn\u001b[39;00m \u001b[39mself\u001b[39m\u001b[39m.\u001b[39msteps[\u001b[39m-\u001b[39m\u001b[39m1\u001b[39m][\u001b[39m1\u001b[39m]\u001b[39m.\u001b[39mpredict(Xt, \u001b[39m*\u001b[39m\u001b[39m*\u001b[39mpredict_params)\n",
            "File \u001b[1;32m~\\AppData\\Local\\Packages\\PythonSoftwareFoundation.Python.3.9_qbz5n2kfra8p0\\LocalCache\\local-packages\\Python39\\site-packages\\sklearn\\feature_extraction\\text.py:2101\u001b[0m, in \u001b[0;36mTfidfVectorizer.transform\u001b[1;34m(self, raw_documents)\u001b[0m\n\u001b[0;32m   2084\u001b[0m \u001b[39m\"\"\"Transform documents to document-term matrix.\u001b[39;00m\n\u001b[0;32m   2085\u001b[0m \n\u001b[0;32m   2086\u001b[0m \u001b[39mUses the vocabulary and document frequencies (df) learned by fit (or\u001b[39;00m\n\u001b[1;32m   (...)\u001b[0m\n\u001b[0;32m   2097\u001b[0m \u001b[39m    Tf-idf-weighted document-term matrix.\u001b[39;00m\n\u001b[0;32m   2098\u001b[0m \u001b[39m\"\"\"\u001b[39;00m\n\u001b[0;32m   2099\u001b[0m check_is_fitted(\u001b[39mself\u001b[39m, msg\u001b[39m=\u001b[39m\u001b[39m\"\u001b[39m\u001b[39mThe TF-IDF vectorizer is not fitted\u001b[39m\u001b[39m\"\u001b[39m)\n\u001b[1;32m-> 2101\u001b[0m X \u001b[39m=\u001b[39m \u001b[39msuper\u001b[39;49m()\u001b[39m.\u001b[39;49mtransform(raw_documents)\n\u001b[0;32m   2102\u001b[0m \u001b[39mreturn\u001b[39;00m \u001b[39mself\u001b[39m\u001b[39m.\u001b[39m_tfidf\u001b[39m.\u001b[39mtransform(X, copy\u001b[39m=\u001b[39m\u001b[39mFalse\u001b[39;00m)\n",
            "File \u001b[1;32m~\\AppData\\Local\\Packages\\PythonSoftwareFoundation.Python.3.9_qbz5n2kfra8p0\\LocalCache\\local-packages\\Python39\\site-packages\\sklearn\\feature_extraction\\text.py:1379\u001b[0m, in \u001b[0;36mCountVectorizer.transform\u001b[1;34m(self, raw_documents)\u001b[0m\n\u001b[0;32m   1376\u001b[0m \u001b[39mself\u001b[39m\u001b[39m.\u001b[39m_check_vocabulary()\n\u001b[0;32m   1378\u001b[0m \u001b[39m# use the same matrix-building strategy as fit_transform\u001b[39;00m\n\u001b[1;32m-> 1379\u001b[0m _, X \u001b[39m=\u001b[39m \u001b[39mself\u001b[39;49m\u001b[39m.\u001b[39;49m_count_vocab(raw_documents, fixed_vocab\u001b[39m=\u001b[39;49m\u001b[39mTrue\u001b[39;49;00m)\n\u001b[0;32m   1380\u001b[0m \u001b[39mif\u001b[39;00m \u001b[39mself\u001b[39m\u001b[39m.\u001b[39mbinary:\n\u001b[0;32m   1381\u001b[0m     X\u001b[39m.\u001b[39mdata\u001b[39m.\u001b[39mfill(\u001b[39m1\u001b[39m)\n",
            "File \u001b[1;32m~\\AppData\\Local\\Packages\\PythonSoftwareFoundation.Python.3.9_qbz5n2kfra8p0\\LocalCache\\local-packages\\Python39\\site-packages\\sklearn\\feature_extraction\\text.py:1201\u001b[0m, in \u001b[0;36mCountVectorizer._count_vocab\u001b[1;34m(self, raw_documents, fixed_vocab)\u001b[0m\n\u001b[0;32m   1199\u001b[0m \u001b[39mfor\u001b[39;00m doc \u001b[39min\u001b[39;00m raw_documents:\n\u001b[0;32m   1200\u001b[0m     feature_counter \u001b[39m=\u001b[39m {}\n\u001b[1;32m-> 1201\u001b[0m     \u001b[39mfor\u001b[39;00m feature \u001b[39min\u001b[39;00m analyze(doc):\n\u001b[0;32m   1202\u001b[0m         \u001b[39mtry\u001b[39;00m:\n\u001b[0;32m   1203\u001b[0m             feature_idx \u001b[39m=\u001b[39m vocabulary[feature]\n",
            "File \u001b[1;32m~\\AppData\\Local\\Packages\\PythonSoftwareFoundation.Python.3.9_qbz5n2kfra8p0\\LocalCache\\local-packages\\Python39\\site-packages\\sklearn\\feature_extraction\\text.py:113\u001b[0m, in \u001b[0;36m_analyze\u001b[1;34m(doc, analyzer, tokenizer, ngrams, preprocessor, decoder, stop_words)\u001b[0m\n\u001b[0;32m    111\u001b[0m \u001b[39melse\u001b[39;00m:\n\u001b[0;32m    112\u001b[0m     \u001b[39mif\u001b[39;00m preprocessor \u001b[39mis\u001b[39;00m \u001b[39mnot\u001b[39;00m \u001b[39mNone\u001b[39;00m:\n\u001b[1;32m--> 113\u001b[0m         doc \u001b[39m=\u001b[39m preprocessor(doc)\n\u001b[0;32m    114\u001b[0m     \u001b[39mif\u001b[39;00m tokenizer \u001b[39mis\u001b[39;00m \u001b[39mnot\u001b[39;00m \u001b[39mNone\u001b[39;00m:\n\u001b[0;32m    115\u001b[0m         doc \u001b[39m=\u001b[39m tokenizer(doc)\n",
            "File \u001b[1;32m~\\AppData\\Local\\Packages\\PythonSoftwareFoundation.Python.3.9_qbz5n2kfra8p0\\LocalCache\\local-packages\\Python39\\site-packages\\sklearn\\feature_extraction\\text.py:71\u001b[0m, in \u001b[0;36m_preprocess\u001b[1;34m(doc, accent_function, lower)\u001b[0m\n\u001b[0;32m     52\u001b[0m \u001b[39m\"\"\"Chain together an optional series of text preprocessing steps to\u001b[39;00m\n\u001b[0;32m     53\u001b[0m \u001b[39mapply to a document.\u001b[39;00m\n\u001b[0;32m     54\u001b[0m \n\u001b[1;32m   (...)\u001b[0m\n\u001b[0;32m     68\u001b[0m \u001b[39m    preprocessed string\u001b[39;00m\n\u001b[0;32m     69\u001b[0m \u001b[39m\"\"\"\u001b[39;00m\n\u001b[0;32m     70\u001b[0m \u001b[39mif\u001b[39;00m lower:\n\u001b[1;32m---> 71\u001b[0m     doc \u001b[39m=\u001b[39m doc\u001b[39m.\u001b[39;49mlower()\n\u001b[0;32m     72\u001b[0m \u001b[39mif\u001b[39;00m accent_function \u001b[39mis\u001b[39;00m \u001b[39mnot\u001b[39;00m \u001b[39mNone\u001b[39;00m:\n\u001b[0;32m     73\u001b[0m     doc \u001b[39m=\u001b[39m accent_function(doc)\n",
            "File \u001b[1;32m~\\AppData\\Local\\Packages\\PythonSoftwareFoundation.Python.3.9_qbz5n2kfra8p0\\LocalCache\\local-packages\\Python39\\site-packages\\scipy\\sparse\\base.py:687\u001b[0m, in \u001b[0;36mspmatrix.__getattr__\u001b[1;34m(self, attr)\u001b[0m\n\u001b[0;32m    685\u001b[0m     \u001b[39mreturn\u001b[39;00m \u001b[39mself\u001b[39m\u001b[39m.\u001b[39mgetnnz()\n\u001b[0;32m    686\u001b[0m \u001b[39melse\u001b[39;00m:\n\u001b[1;32m--> 687\u001b[0m     \u001b[39mraise\u001b[39;00m \u001b[39mAttributeError\u001b[39;00m(attr \u001b[39m+\u001b[39m \u001b[39m\"\u001b[39m\u001b[39m not found\u001b[39m\u001b[39m\"\u001b[39m)\n",
            "\u001b[1;31mAttributeError\u001b[0m: lower not found"
          ]
        }
      ],
      "source": [
        "str = \"\"\"WASHINGTON (AP) — With little time left to prevent a government shutdown, the House is in a familiar position: effectively paralyzed as conservatives feud with Speaker Kevin McCarthy over matters large and small. McCarthy has pushed the Republican conference to embrace a short-term funding plan that would also include a sweeping Republican proposal for the southern border. But a small group of hardline conservatives has defied the speaker in a quest to get rid of stopgap funding plans, known as continuing resolutions, even if opposing them means forcing a government shutdown. It’s left McCarthy at an impasse. He will likely be left with the political damage of a shutdown unless he turns to Democrats for help in passing a bipartisan bill. But working with Democrats would give hard-right Republicans reason to remove him as speaker.\"\"\"\n",
        "\n",
        "res = manual_testing(str)"
      ]
    },
    {
      "cell_type": "code",
      "execution_count": 20,
      "metadata": {
        "colab": {
          "base_uri": "https://localhost:8080/"
        },
        "id": "i41PvO3NZZ8u",
        "outputId": "0d17918f-bdae-47aa-e2af-daa8ed316fe3"
      },
      "outputs": [
        {
          "name": "stdout",
          "output_type": "stream",
          "text": [
            "\n",
            "\n",
            "DT Prediction: Fake NEWS \n",
            "LR Prediction: Fake NEWS \n",
            "GB Prediction: Fake NEWS \n",
            "RF Prediction: Fake NEWS\n",
            "2150\n"
          ]
        }
      ],
      "source": [
        "news = input()\n",
        "manual_testing(news)\n",
        "print(len(news))\n",
        "#chỉ nên tin RF :)"
      ]
    },
    {
      "cell_type": "code",
      "execution_count": 59,
      "metadata": {},
      "outputs": [
        {
          "ename": "AttributeError",
          "evalue": "'LogisticRegression' object has no attribute 'feature_names_in_'",
          "output_type": "error",
          "traceback": [
            "\u001b[1;31m---------------------------------------------------------------------------\u001b[0m",
            "\u001b[1;31mAttributeError\u001b[0m                            Traceback (most recent call last)",
            "\u001b[1;32me:\\Tài liệu môn học\\Đồ án\\pbl6\\detectFakeNEWS\\5glassesNews-detect-fake-news\\codeTraining.ipynb Cell 60\u001b[0m line \u001b[0;36m1\n\u001b[1;32m----> <a href='vscode-notebook-cell:/e%3A/Ta%CC%80i%20li%C3%AA%CC%A3u%20m%C3%B4n%20h%E1%BB%8Dc/%C4%90%E1%BB%93%20%C3%A1n/pbl6/detectFakeNEWS/5glassesNews-detect-fake-news/codeTraining.ipynb#Y113sZmlsZQ%3D%3D?line=0'>1</a>\u001b[0m \u001b[39mprint\u001b[39m(LR\u001b[39m.\u001b[39;49mfeature_names_in_)\n",
            "\u001b[1;31mAttributeError\u001b[0m: 'LogisticRegression' object has no attribute 'feature_names_in_'"
          ]
        }
      ],
      "source": [
        "print(LR.feature_names_in_)"
      ]
    },
    {
      "cell_type": "code",
      "execution_count": null,
      "metadata": {
        "colab": {
          "base_uri": "https://localhost:8080/"
        },
        "id": "VZoCxEGMzOmi",
        "outputId": "21ffd802-5d50-4b78-b35c-670b5ee0e088"
      },
      "outputs": [
        {
          "name": "stdout",
          "output_type": "stream",
          "text": [
            "f\n",
            "...\n"
          ]
        }
      ],
      "source": [
        "# text1 = \"The question is whether anyone in power will listen.\"\n",
        "# text2 = input()\n",
        "\n",
        "# if text1 in text2:\n",
        "#   print(\"Text1 is a substring of Text2\")\n",
        "# else:\n",
        "#   print(\"...\")"
      ]
    },
    {
      "cell_type": "code",
      "execution_count": null,
      "metadata": {
        "colab": {
          "base_uri": "https://localhost:8080/",
          "height": 158
        },
        "id": "KgyprUq5xuGO",
        "outputId": "582939ef-ed2d-41ba-a30a-bbc1a66e4fcf"
      },
      "outputs": [
        {
          "ename": "SyntaxError",
          "evalue": "EOL while scanning string literal (861917238.py, line 1)",
          "output_type": "error",
          "traceback": [
            "\u001b[1;36m  Cell \u001b[1;32mIn[1], line 1\u001b[1;36m\u001b[0m\n\u001b[1;33m    manual_testing(\"WASHINGTON (AP) — With little time left to prevent a government shutdown, the House is in a familiar position: effectively paralyzed as conservatives feud with Speaker Kevin McCarthy over matters large and small.\u001b[0m\n\u001b[1;37m                                                                                                                                                                                                                                        ^\u001b[0m\n\u001b[1;31mSyntaxError\u001b[0m\u001b[1;31m:\u001b[0m EOL while scanning string literal\n"
          ]
        }
      ],
      "source": [
        "# manual_testing(\"WASHINGTON (AP) — With little time left to prevent a government shutdown, the House is in a familiar position: effectively paralyzed as conservatives feud with Speaker Kevin McCarthy over matters large and small.\n",
        "\n",
        "# McCarthy has pushed the Republican conference to embrace a short-term funding plan that would also include a sweeping Republican proposal for the southern border. But a small group of hardline conservatives has defied the speaker in a quest to get rid of stopgap funding plans, known as continuing resolutions, even if opposing them means forcing a government shutdown.\n",
        "\n",
        "# It’s left McCarthy at an impasse. He will likely be left with the political damage of a shutdown unless he turns to Democrats for help in passing a bipartisan bill. But working with Democrats would give hard-right Republicans reason to remove him as speaker.\")"
      ]
    },
    {
      "cell_type": "code",
      "execution_count": null,
      "metadata": {
        "id": "fKO9wpQsxuML"
      },
      "outputs": [],
      "source": [
        "# manual_testing(\"NATO Secretary General Jens Stoltenberg has warned that the war in Ukraine could be long, as Kyiv’s counteroffensive against Russia continues to make only marginal gains. Ukraine’s allies have sought to accentuate campaign gains in recent weeks, but it has been underway for months with no major breakthroughs. The fall will bring changing conditions on the ground and the possibility that Russia will once again try to pummel Ukrainian energy infrastructure.“Most wars last longer than is expected when they first start. Therefore, we must prepare ourselves for a long war in Ukraine,” Stoltenberg said in an interview with German newspaper Berliner Morgenpost published Sunday.“We are all wishing for a quick peace. But at the same time, we must recognize: If President Zelensky and the Ukrainians give up the fight, their country would not exist anymore. If President Putin and Russia laid down their weapons, we would have peace,” the NATO chief said.“The easiest way to end this war would be if Putin withdrew his troops,” he added.On the possibility of Putin using nuclear weapons in Ukraine, Stoltenberg said: “Putin’s nuclear rhetoric is dangerous and ruthless, but NATO is prepared for every threat and challenge.\")"
      ]
    },
    {
      "cell_type": "code",
      "execution_count": null,
      "metadata": {
        "id": "IVce8esCvG20"
      },
      "outputs": [],
      "source": [
        "manual_testing(\"At least 16 people have been killed and 36 more injured following a bus crash Tuesday on central Mexico’s Cuacnopalan-Oaxaca highway, according to officials.The bus, which was carrying locals and migrants, collided with a trailer truck on the highway near the border between the states of Oaxaca and Puebla, Oaxaca’s Prosecutor’s Office said in a statement.The traffic accident killed at least eight men and eight women, including one minor. The injured were transferred to hospitals in Puebla for medical attention.The reason for the collision is unknown, but the prosecutor’s office has said they will conduct an expert-led investigation to uncover what events unfolded that led up to the crash and determine if anyone should be held liable.“I have instructed the heads of the relevant authorities to collaborate and support the injured people,” the governor of Oaxaca, Salomón Jara Cruz, said on X, formally known as Twitter. “We send a hug and condolences to the families of the deceased, to whom we will also provide all our support.”Puebla’s interior ministry said it is in communication with federal government agencies and state authorities on how best to support the victims.\")"
      ]
    },
    {
      "cell_type": "code",
      "execution_count": null,
      "metadata": {
        "id": "mN5lrPV0vG51"
      },
      "outputs": [],
      "source": [
        "manual_testing('A confluence of crises jarring America’s political, democratic, judicial and economic systems, often fueled by Donald Trump and far-right Republicans, threatens to severely test Joe Biden’s presidency amid rising doubts over his reelection bid.As the 2024 White House race heats up, it’s becoming clear that extraordinary, historic challenges complicate Biden’s push for a second term, over and above the liabilities expressed in his low presidential approval ratings and the uneven economy.Even by the standards of recent years, in which democracy has wobbled and fierce political recrimination deepened, the country is heading into a political morass without parallel.The front-runner for the Republican nomination is a twice-impeached ex-president – Trump – who is facing four criminal trials and has never shelved his attempt to overturn the American democratic system of fair elections.Biden now faces his own impeachment drama after pro-Trump Republicans, despite a paucity of evidence of abuses of power, opened an investigation seeking to tie him to his son Hunter’s alleged influence-peddling in China and Ukraine. Biden is also reeling after his surviving son last week became the only child of a sitting president to be indicted.The House Republican majority, beset by infighting and radicalization, has threatened to choke off federal funding and may shut down the government by the end of the month after its most extreme members demanded massive spending cuts it has no power to enact given opposition by the Senate and the White House. The showdown is increasingly an existential threat to GOP Speaker Kevin McCarthy.The octogenarian president is increasingly coming under scrutiny over his ability to serve a full second term if he wins in November 2024. It’s a legitimate question that many Americans share but that the White House struggles to answer.A sense of building national malaise is encapsulated by two strikes hobbling two industries that had outsize influence on the mythology of US cultural power and global dominance in the 20th century: automobiles and Hollywood.Washington’s festering political mess could have international implications as hard-line Republicans seek to halt billions of dollars of US aid to Ukraine as it fights Russia’s invasion. President Volodymyr Zelensky is due to travel to Washington this week to seek to shore up the lifeline, but Trump warned on NBC’s “Meet the Press” that if he wins in 2024 he plans to get Zelensky and Vladimir Putin “into a room” and broker a deal – a scenario likely to swing heavily to the Russian strongman’s demands.All of this is occurring at a time when no one in either party appears to have the power to push aside the two dominant political figures – Biden and Trump, who are the most likely combatants in a presidential race next year that polls show few Americans want.')"
      ]
    },
    {
      "cell_type": "code",
      "execution_count": null,
      "metadata": {
        "id": "vVAdEgAEkLjG"
      },
      "outputs": [],
      "source": []
    },
    {
      "cell_type": "code",
      "execution_count": null,
      "metadata": {
        "id": "tKigR6Sqo_Pz"
      },
      "outputs": [],
      "source": []
    }
  ],
  "metadata": {
    "colab": {
      "provenance": []
    },
    "kernelspec": {
      "display_name": "Python 3",
      "name": "python3"
    },
    "language_info": {
      "codemirror_mode": {
        "name": "ipython",
        "version": 3
      },
      "file_extension": ".py",
      "mimetype": "text/x-python",
      "name": "python",
      "nbconvert_exporter": "python",
      "pygments_lexer": "ipython3",
      "version": "3.9.13"
    }
  },
  "nbformat": 4,
  "nbformat_minor": 0
}
